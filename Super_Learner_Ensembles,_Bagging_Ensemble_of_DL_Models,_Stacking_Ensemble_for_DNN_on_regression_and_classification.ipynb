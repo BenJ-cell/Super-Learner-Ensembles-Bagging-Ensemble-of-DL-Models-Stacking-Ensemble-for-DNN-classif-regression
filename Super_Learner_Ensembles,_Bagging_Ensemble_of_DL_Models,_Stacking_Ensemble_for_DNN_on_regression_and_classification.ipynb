{
  "nbformat": 4,
  "nbformat_minor": 0,
  "metadata": {
    "colab": {
      "provenance": []
    },
    "kernelspec": {
      "name": "python3",
      "display_name": "Python 3"
    },
    "language_info": {
      "name": "python"
    }
  },
  "cells": [
    {
      "cell_type": "markdown",
      "source": [
        "Picking the top machine learning model is complex; try different algorithms and test efficacy with k-fold cross-validation. Train backup algorithm with multiple models to use as alternative. Utilize all models in group, not just the best. \"Super learner\" tests, educates and optimizes algorithms using various factors like covariates, loss functions, and tuning parameters. The model uses the super learner technique with 50 base-models and a linear meta-model for stacked generalization, resulting in a 1K x 50 input data. No overfitting. Super learner measures predictability and blends models with a meta-model. Test new data with regression and enhance predictions through training base-models on entire dataset for future use, if necessary for the super learner. Collect sample, merge results, apply meta-model. Steps: Acquire sample. Simplify models and merge predictions for meta-model predictions using a super learner algorithm."
      ],
      "metadata": {
        "id": "OO4rj4aQ2Ce7"
      }
    },
    {
      "cell_type": "markdown",
      "source": [
        "# **Super Learner for Regression**: \n",
        "\n",
        "Using make_regression() to generate 1,000 rows with 100 columns for a simple regression problem with added noise. Data split for training and evaluation: 50% used for training, 50% held for final super model and base-models.\n",
        "\n",
        "We'll use k-fold cross-validation to make out-of-fold predictions for the super learner. This means splitting the data into 10 folds and fitting the model on the training part while predicting on the test part of each fold. This is done for each model, with all out-of-fold predictions saved as columns for the meta-model input. We'll combine algorithm columns horizontally for one fold of data, then vertically stack the groups into a single dataset with 500 rows and 9 columns. Function get_out_of_fold_predictions() returns the required input and output dataset for training the meta-model with a test dataset and model list."
      ],
      "metadata": {
        "id": "GaYOvLLH2Iy0"
      }
    },
    {
      "cell_type": "markdown",
      "source": [
        "# **Imports**"
      ],
      "metadata": {
        "id": "IZ9aL6L-3MXj"
      }
    },
    {
      "cell_type": "code",
      "source": [
        "from keras.utils import to_categorical, plot_model\n",
        "from keras.models import Sequential, load_model, Model\n",
        "from keras.layers import Input, Dense, concatenate\n",
        "from pandas import DataFrame, read_csv\n",
        "from os import makedirs\n",
        "from matplotlib import pyplot\n",
        "from mlens.ensemble import SuperLearner\n",
        "from math import sqrt\n",
        "from numpy import hstack, vstack, asarray, mean, std, array, argmax, dstack, sum, number\n",
        "from sklearn.datasets import make_regression, make_blobs\n",
        "from sklearn.model_selection import KFold, train_test_split\n",
        "from sklearn.metrics import mean_squared_error, accuracy_score\n",
        "from sklearn.utils import resample\n",
        "from sklearn.linear_model import LinearRegression, ElasticNet, LogisticRegression\n",
        "from sklearn.neighbors import KNeighborsRegressor, KNeighborsClassifier\n",
        "from sklearn.tree import DecisionTreeRegressor, DecisionTreeClassifier\n",
        "from sklearn.svm import SVR, SVC\n",
        "from sklearn.naive_bayes import GaussianNB\n",
        "from sklearn.ensemble import AdaBoostRegressor, BaggingRegressor, RandomForestRegressor, ExtraTreesRegressor, AdaBoostClassifier, BaggingClassifier, RandomForestClassifier, ExtraTreesClassifier"
      ],
      "metadata": {
        "colab": {
          "base_uri": "https://localhost:8080/"
        },
        "id": "eqtAR64v3OJq",
        "outputId": "abf5410f-1cd7-4ecf-bbac-b3ed02cdfd85"
      },
      "execution_count": 1,
      "outputs": [
        {
          "output_type": "stream",
          "name": "stderr",
          "text": [
            "[MLENS] backend: threading\n"
          ]
        }
      ]
    },
    {
      "cell_type": "markdown",
      "source": [
        "# **Super Learner for Regression**"
      ],
      "metadata": {
        "id": "F210t_JQ74wW"
      }
    },
    {
      "cell_type": "code",
      "source": [
        "def return_models_regression():\n",
        " return [LinearRegression(),ElasticNet(),SVR(gamma='scale'),DecisionTreeRegressor(),KNeighborsRegressor(),AdaBoostRegressor(),\n",
        "           BaggingRegressor(n_estimators=10),RandomForestRegressor(n_estimators=10),ExtraTreesRegressor(n_estimators=10)]\n",
        " \n",
        "def return_out_of_fold_pred(X, y, models):\n",
        " X_meta, y_meta = list(), list()\n",
        " kfold = KFold(n_splits=10, shuffle=True)\n",
        " for train_ix, test_ix in kfold.split(X):\n",
        "    fold_yhats = list()\n",
        "    train_X, test_X, train_y, test_y = X[train_ix], X[test_ix], y[train_ix], y[test_ix]\n",
        "    y_meta.extend(test_y)\n",
        "    for model in models:\n",
        "        model.fit(train_X, train_y)\n",
        "        yhat = model.predict(test_X)\n",
        "        fold_yhats.append(yhat.reshape(len(yhat),1))\n",
        "    X_meta.append(hstack(fold_yhats))\n",
        " return vstack(X_meta), asarray(y_meta)\n",
        " \n",
        "def fit_base_models(X, y, models):\n",
        " for model in models: model.fit(X, y)\n",
        " \n",
        "def fit_meta_model_regression(X, y):\n",
        "  model = LinearRegression()\n",
        "  model.fit(X, y)\n",
        "  return model\n",
        " \n",
        "def evaluate_models_regression(X, y, models):\n",
        " for model in models:\n",
        "    yhat = model.predict(X)\n",
        "    mse = mean_squared_error(y, yhat)\n",
        "    print('%s: RMSE %.3f' % (model.__class__.__name__, sqrt(mse)))\n",
        " \n",
        "def super_learner_predictions(X, models, meta_model):\n",
        " X_meta = list()\n",
        " for model in models:\n",
        "    yhat = model.predict(X)\n",
        "    X_meta.append(yhat.reshape(len(yhat),1))\n",
        " X_meta = hstack(X_meta)\n",
        " return meta_model.predict(X_meta)\n",
        " \n",
        "X,y = make_regression(n_samples=1000, n_features=100, noise=0.5)\n",
        "X, X_val, y, y_val = train_test_split(X,y, test_size=0.50)\n",
        "print('Training shape', X.shape, y.shape, 'Testing shape', X_val.shape, y_val.shape)\n",
        "models = return_models_regression()\n",
        "X_meta, y_meta = return_out_of_fold_pred(X, y, models)\n",
        "print('Meta data shape', X_meta.shape, y_meta.shape)\n",
        "fit_base_models(X, y, models)\n",
        "meta_model = fit_meta_model_regression(X_meta, y_meta)\n",
        "evaluate_models_regression(X_val, y_val, models)\n",
        "yhat = super_learner_predictions(X_val, models, meta_model)\n",
        "print('Super Learner: RMSE %.3f' % (sqrt(mean_squared_error(y_val, yhat))))"
      ],
      "metadata": {
        "colab": {
          "base_uri": "https://localhost:8080/"
        },
        "id": "JmgHjUsc44xV",
        "outputId": "a0c3fdad-c5e1-454c-efb9-4a86e1c68db5"
      },
      "execution_count": 2,
      "outputs": [
        {
          "output_type": "stream",
          "name": "stdout",
          "text": [
            "Training shape (500, 100) (500,) Testing shape (500, 100) (500,)\n",
            "Meta data shape (500, 9) (500,)\n",
            "LinearRegression: RMSE 0.522\n",
            "ElasticNet: RMSE 53.196\n",
            "SVR: RMSE 138.386\n",
            "DecisionTreeRegressor: RMSE 131.874\n",
            "KNeighborsRegressor: RMSE 123.216\n",
            "AdaBoostRegressor: RMSE 79.821\n",
            "BaggingRegressor: RMSE 92.214\n",
            "RandomForestRegressor: RMSE 92.623\n",
            "ExtraTreesRegressor: RMSE 86.976\n",
            "Super Learner: RMSE 0.527\n"
          ]
        }
      ]
    },
    {
      "cell_type": "code",
      "source": [
        "import warnings\n",
        "warnings.filterwarnings('ignore')\n",
        "\n",
        "# On real data:\n",
        "# Is there a relationship between humidity and temperature? What about between humidity and apparent temperature? \n",
        "# Can we predict the apparent temperature given the humidity?\n",
        "df_regression = read_csv('weatherHistory.csv')\n",
        "df_test_regression = df_regression.select_dtypes(include=number).sample(1000)\n",
        "\n",
        "X,y = df_test_regression.loc[:,df_test_regression.columns!= 'Apparent Temperature (C)'], df_test_regression['Apparent Temperature (C)']\n",
        "X, X_val, y, y_val = train_test_split(X,y, test_size=0.50)\n",
        "print('Training shape', X.shape, y.shape, 'Testing shape', X_val.shape, y_val.shape)\n",
        "models = return_models_regression()\n",
        "X = X.values\n",
        "y = y.values\n",
        "X_meta, y_meta = return_out_of_fold_pred(X, y, models)\n",
        "print('Meta data shape', X_meta.shape, y_meta.shape)\n",
        "fit_base_models(X, y, models)\n",
        "meta_model = fit_meta_model_regression(X_meta, y_meta)\n",
        "evaluate_models_regression(X_val, y_val, models)\n",
        "yhat = super_learner_predictions(X_val, models, meta_model)\n",
        "print('Super Learner: RMSE %.3f' % (sqrt(mean_squared_error(y_val, yhat))))"
      ],
      "metadata": {
        "colab": {
          "base_uri": "https://localhost:8080/"
        },
        "id": "s6agACp6PFh0",
        "outputId": "d5383e35-21a8-46dd-91ef-51a6b746ab2e"
      },
      "execution_count": 3,
      "outputs": [
        {
          "output_type": "stream",
          "name": "stdout",
          "text": [
            "Training shape (500, 7) (500,) Testing shape (500, 7) (500,)\n",
            "Meta data shape (500, 9) (500,)\n",
            "LinearRegression: RMSE 1.051\n",
            "ElasticNet: RMSE 1.076\n",
            "SVR: RMSE 10.281\n",
            "DecisionTreeRegressor: RMSE 0.655\n",
            "KNeighborsRegressor: RMSE 3.401\n",
            "AdaBoostRegressor: RMSE 1.127\n",
            "BaggingRegressor: RMSE 0.603\n",
            "RandomForestRegressor: RMSE 0.661\n",
            "ExtraTreesRegressor: RMSE 0.568\n",
            "Super Learner: RMSE 0.502\n"
          ]
        }
      ]
    },
    {
      "cell_type": "code",
      "source": [
        "df_regression.head()"
      ],
      "metadata": {
        "colab": {
          "base_uri": "https://localhost:8080/",
          "height": 441
        },
        "id": "YDwBm1TZTNMy",
        "outputId": "15f6e7fc-0fef-4b8a-e136-e85021ca44e8"
      },
      "execution_count": 4,
      "outputs": [
        {
          "output_type": "execute_result",
          "data": {
            "text/plain": [
              "                  Formatted Date        Summary Precip Type  Temperature (C)  \\\n",
              "0  2006-04-01 00:00:00.000 +0200  Partly Cloudy        rain         9.472222   \n",
              "1  2006-04-01 01:00:00.000 +0200  Partly Cloudy        rain         9.355556   \n",
              "2  2006-04-01 02:00:00.000 +0200  Mostly Cloudy        rain         9.377778   \n",
              "3  2006-04-01 03:00:00.000 +0200  Partly Cloudy        rain         8.288889   \n",
              "4  2006-04-01 04:00:00.000 +0200  Mostly Cloudy        rain         8.755556   \n",
              "\n",
              "   Apparent Temperature (C)  Humidity  Wind Speed (km/h)  \\\n",
              "0                  7.388889      0.89            14.1197   \n",
              "1                  7.227778      0.86            14.2646   \n",
              "2                  9.377778      0.89             3.9284   \n",
              "3                  5.944444      0.83            14.1036   \n",
              "4                  6.977778      0.83            11.0446   \n",
              "\n",
              "   Wind Bearing (degrees)  Visibility (km)  Loud Cover  Pressure (millibars)  \\\n",
              "0                   251.0          15.8263         0.0               1015.13   \n",
              "1                   259.0          15.8263         0.0               1015.63   \n",
              "2                   204.0          14.9569         0.0               1015.94   \n",
              "3                   269.0          15.8263         0.0               1016.41   \n",
              "4                   259.0          15.8263         0.0               1016.51   \n",
              "\n",
              "                       Daily Summary  \n",
              "0  Partly cloudy throughout the day.  \n",
              "1  Partly cloudy throughout the day.  \n",
              "2  Partly cloudy throughout the day.  \n",
              "3  Partly cloudy throughout the day.  \n",
              "4  Partly cloudy throughout the day.  "
            ],
            "text/html": [
              "\n",
              "  <div id=\"df-707a5a8f-dd0a-4385-b88c-f6ac1fc66f32\">\n",
              "    <div class=\"colab-df-container\">\n",
              "      <div>\n",
              "<style scoped>\n",
              "    .dataframe tbody tr th:only-of-type {\n",
              "        vertical-align: middle;\n",
              "    }\n",
              "\n",
              "    .dataframe tbody tr th {\n",
              "        vertical-align: top;\n",
              "    }\n",
              "\n",
              "    .dataframe thead th {\n",
              "        text-align: right;\n",
              "    }\n",
              "</style>\n",
              "<table border=\"1\" class=\"dataframe\">\n",
              "  <thead>\n",
              "    <tr style=\"text-align: right;\">\n",
              "      <th></th>\n",
              "      <th>Formatted Date</th>\n",
              "      <th>Summary</th>\n",
              "      <th>Precip Type</th>\n",
              "      <th>Temperature (C)</th>\n",
              "      <th>Apparent Temperature (C)</th>\n",
              "      <th>Humidity</th>\n",
              "      <th>Wind Speed (km/h)</th>\n",
              "      <th>Wind Bearing (degrees)</th>\n",
              "      <th>Visibility (km)</th>\n",
              "      <th>Loud Cover</th>\n",
              "      <th>Pressure (millibars)</th>\n",
              "      <th>Daily Summary</th>\n",
              "    </tr>\n",
              "  </thead>\n",
              "  <tbody>\n",
              "    <tr>\n",
              "      <th>0</th>\n",
              "      <td>2006-04-01 00:00:00.000 +0200</td>\n",
              "      <td>Partly Cloudy</td>\n",
              "      <td>rain</td>\n",
              "      <td>9.472222</td>\n",
              "      <td>7.388889</td>\n",
              "      <td>0.89</td>\n",
              "      <td>14.1197</td>\n",
              "      <td>251.0</td>\n",
              "      <td>15.8263</td>\n",
              "      <td>0.0</td>\n",
              "      <td>1015.13</td>\n",
              "      <td>Partly cloudy throughout the day.</td>\n",
              "    </tr>\n",
              "    <tr>\n",
              "      <th>1</th>\n",
              "      <td>2006-04-01 01:00:00.000 +0200</td>\n",
              "      <td>Partly Cloudy</td>\n",
              "      <td>rain</td>\n",
              "      <td>9.355556</td>\n",
              "      <td>7.227778</td>\n",
              "      <td>0.86</td>\n",
              "      <td>14.2646</td>\n",
              "      <td>259.0</td>\n",
              "      <td>15.8263</td>\n",
              "      <td>0.0</td>\n",
              "      <td>1015.63</td>\n",
              "      <td>Partly cloudy throughout the day.</td>\n",
              "    </tr>\n",
              "    <tr>\n",
              "      <th>2</th>\n",
              "      <td>2006-04-01 02:00:00.000 +0200</td>\n",
              "      <td>Mostly Cloudy</td>\n",
              "      <td>rain</td>\n",
              "      <td>9.377778</td>\n",
              "      <td>9.377778</td>\n",
              "      <td>0.89</td>\n",
              "      <td>3.9284</td>\n",
              "      <td>204.0</td>\n",
              "      <td>14.9569</td>\n",
              "      <td>0.0</td>\n",
              "      <td>1015.94</td>\n",
              "      <td>Partly cloudy throughout the day.</td>\n",
              "    </tr>\n",
              "    <tr>\n",
              "      <th>3</th>\n",
              "      <td>2006-04-01 03:00:00.000 +0200</td>\n",
              "      <td>Partly Cloudy</td>\n",
              "      <td>rain</td>\n",
              "      <td>8.288889</td>\n",
              "      <td>5.944444</td>\n",
              "      <td>0.83</td>\n",
              "      <td>14.1036</td>\n",
              "      <td>269.0</td>\n",
              "      <td>15.8263</td>\n",
              "      <td>0.0</td>\n",
              "      <td>1016.41</td>\n",
              "      <td>Partly cloudy throughout the day.</td>\n",
              "    </tr>\n",
              "    <tr>\n",
              "      <th>4</th>\n",
              "      <td>2006-04-01 04:00:00.000 +0200</td>\n",
              "      <td>Mostly Cloudy</td>\n",
              "      <td>rain</td>\n",
              "      <td>8.755556</td>\n",
              "      <td>6.977778</td>\n",
              "      <td>0.83</td>\n",
              "      <td>11.0446</td>\n",
              "      <td>259.0</td>\n",
              "      <td>15.8263</td>\n",
              "      <td>0.0</td>\n",
              "      <td>1016.51</td>\n",
              "      <td>Partly cloudy throughout the day.</td>\n",
              "    </tr>\n",
              "  </tbody>\n",
              "</table>\n",
              "</div>\n",
              "      <button class=\"colab-df-convert\" onclick=\"convertToInteractive('df-707a5a8f-dd0a-4385-b88c-f6ac1fc66f32')\"\n",
              "              title=\"Convert this dataframe to an interactive table.\"\n",
              "              style=\"display:none;\">\n",
              "        \n",
              "  <svg xmlns=\"http://www.w3.org/2000/svg\" height=\"24px\"viewBox=\"0 0 24 24\"\n",
              "       width=\"24px\">\n",
              "    <path d=\"M0 0h24v24H0V0z\" fill=\"none\"/>\n",
              "    <path d=\"M18.56 5.44l.94 2.06.94-2.06 2.06-.94-2.06-.94-.94-2.06-.94 2.06-2.06.94zm-11 1L8.5 8.5l.94-2.06 2.06-.94-2.06-.94L8.5 2.5l-.94 2.06-2.06.94zm10 10l.94 2.06.94-2.06 2.06-.94-2.06-.94-.94-2.06-.94 2.06-2.06.94z\"/><path d=\"M17.41 7.96l-1.37-1.37c-.4-.4-.92-.59-1.43-.59-.52 0-1.04.2-1.43.59L10.3 9.45l-7.72 7.72c-.78.78-.78 2.05 0 2.83L4 21.41c.39.39.9.59 1.41.59.51 0 1.02-.2 1.41-.59l7.78-7.78 2.81-2.81c.8-.78.8-2.07 0-2.86zM5.41 20L4 18.59l7.72-7.72 1.47 1.35L5.41 20z\"/>\n",
              "  </svg>\n",
              "      </button>\n",
              "      \n",
              "  <style>\n",
              "    .colab-df-container {\n",
              "      display:flex;\n",
              "      flex-wrap:wrap;\n",
              "      gap: 12px;\n",
              "    }\n",
              "\n",
              "    .colab-df-convert {\n",
              "      background-color: #E8F0FE;\n",
              "      border: none;\n",
              "      border-radius: 50%;\n",
              "      cursor: pointer;\n",
              "      display: none;\n",
              "      fill: #1967D2;\n",
              "      height: 32px;\n",
              "      padding: 0 0 0 0;\n",
              "      width: 32px;\n",
              "    }\n",
              "\n",
              "    .colab-df-convert:hover {\n",
              "      background-color: #E2EBFA;\n",
              "      box-shadow: 0px 1px 2px rgba(60, 64, 67, 0.3), 0px 1px 3px 1px rgba(60, 64, 67, 0.15);\n",
              "      fill: #174EA6;\n",
              "    }\n",
              "\n",
              "    [theme=dark] .colab-df-convert {\n",
              "      background-color: #3B4455;\n",
              "      fill: #D2E3FC;\n",
              "    }\n",
              "\n",
              "    [theme=dark] .colab-df-convert:hover {\n",
              "      background-color: #434B5C;\n",
              "      box-shadow: 0px 1px 3px 1px rgba(0, 0, 0, 0.15);\n",
              "      filter: drop-shadow(0px 1px 2px rgba(0, 0, 0, 0.3));\n",
              "      fill: #FFFFFF;\n",
              "    }\n",
              "  </style>\n",
              "\n",
              "      <script>\n",
              "        const buttonEl =\n",
              "          document.querySelector('#df-707a5a8f-dd0a-4385-b88c-f6ac1fc66f32 button.colab-df-convert');\n",
              "        buttonEl.style.display =\n",
              "          google.colab.kernel.accessAllowed ? 'block' : 'none';\n",
              "\n",
              "        async function convertToInteractive(key) {\n",
              "          const element = document.querySelector('#df-707a5a8f-dd0a-4385-b88c-f6ac1fc66f32');\n",
              "          const dataTable =\n",
              "            await google.colab.kernel.invokeFunction('convertToInteractive',\n",
              "                                                     [key], {});\n",
              "          if (!dataTable) return;\n",
              "\n",
              "          const docLinkHtml = 'Like what you see? Visit the ' +\n",
              "            '<a target=\"_blank\" href=https://colab.research.google.com/notebooks/data_table.ipynb>data table notebook</a>'\n",
              "            + ' to learn more about interactive tables.';\n",
              "          element.innerHTML = '';\n",
              "          dataTable['output_type'] = 'display_data';\n",
              "          await google.colab.output.renderOutput(dataTable, element);\n",
              "          const docLink = document.createElement('div');\n",
              "          docLink.innerHTML = docLinkHtml;\n",
              "          element.appendChild(docLink);\n",
              "        }\n",
              "      </script>\n",
              "    </div>\n",
              "  </div>\n",
              "  "
            ]
          },
          "metadata": {},
          "execution_count": 4
        }
      ]
    },
    {
      "cell_type": "markdown",
      "source": [
        "# **Super Learner for Classification**"
      ],
      "metadata": {
        "id": "0MeXwh3C77hS"
      }
    },
    {
      "cell_type": "markdown",
      "source": [
        "The same applies to the super learner algorithm for classification. The meta learner can receive class labels or probabilities, with probabilities being more useful due to increased uncertainty in predictions. Using make_blobs() classification problem, we'll have 1,000 examples, 100 input variables, and two class labels."
      ],
      "metadata": {
        "id": "3j9w5NAZ8AEP"
      }
    },
    {
      "cell_type": "code",
      "source": [
        "# Super learner in binary classification\n",
        "def return_models_classification():\n",
        "  return [LogisticRegression(max_iter=int(1e8)),DecisionTreeClassifier(),SVC(gamma='scale', probability=True),GaussianNB(),ExtraTreesClassifier(n_estimators=10),\n",
        "           KNeighborsClassifier(),AdaBoostClassifier(),BaggingClassifier(n_estimators=10),RandomForestClassifier(n_estimators=10)]\n",
        "\n",
        "def fit_meta_model_classification(X, y):\n",
        "\tmodel = LogisticRegression(solver='liblinear')\n",
        "\tmodel.fit(X, y)\n",
        "\treturn model\n",
        "\n",
        "def evaluate_models_classification(X, y, models):\n",
        "\tfor model in models:\n",
        "\t\tyhat = model.predict(X)\n",
        "\t\tacc = accuracy_score(y, yhat)\n",
        "\t\tprint('%s: %.3f' % (model.__class__.__name__, acc*100))\n",
        "\n",
        "X,y = make_blobs(n_samples=1000, centers=2, n_features=100, cluster_std=20)\n",
        "X, X_val, y, y_val = train_test_split(X,y, test_size=0.50)\n",
        "print('Train', X.shape, y.shape, 'Test', X_val.shape, y_val.shape)\n",
        "models = return_models_classification()\n",
        "X_meta, y_meta = return_out_of_fold_pred(X, y, models)\n",
        "print('Meta ', X_meta.shape, y_meta.shape)\n",
        "fit_base_models(X, y, models)\n",
        "meta_model = fit_meta_model_classification(X_meta, y_meta)\n",
        "evaluate_models_classification(X_val, y_val, models)\n",
        "yhat = super_learner_predictions(X_val, models, meta_model)\n",
        "print('Super Learner: %.3f' % (accuracy_score(y_val, yhat) * 100))"
      ],
      "metadata": {
        "colab": {
          "base_uri": "https://localhost:8080/"
        },
        "id": "Hch_5NQv8DxA",
        "outputId": "fe419e6c-0d29-49af-a09d-2a0fc5125a3f"
      },
      "execution_count": 5,
      "outputs": [
        {
          "output_type": "stream",
          "name": "stdout",
          "text": [
            "Train (500, 100) (500,) Test (500, 100) (500,)\n",
            "Meta  (500, 9) (500,)\n",
            "LogisticRegression: 94.400\n",
            "DecisionTreeClassifier: 70.400\n",
            "SVC: 95.000\n",
            "GaussianNB: 95.800\n",
            "ExtraTreesClassifier: 78.000\n",
            "KNeighborsClassifier: 90.000\n",
            "AdaBoostClassifier: 86.800\n",
            "BaggingClassifier: 81.400\n",
            "RandomForestClassifier: 80.400\n",
            "Super Learner: 96.000\n"
          ]
        }
      ]
    },
    {
      "cell_type": "code",
      "source": [
        "# On real data:\n",
        "# Can we predict if a candy is chocolate or not based on its other features?\n",
        "\n",
        "df_classification = read_csv('candy-data.csv')\n",
        "df_test_classification = df_classification.select_dtypes(include=number)\n",
        "\n",
        "X,y = df_test_classification.loc[:,df_test_classification.columns!= 'chocolate'], df_test_classification['chocolate']\n",
        "X, X_val, y, y_val = train_test_split(X,y, test_size=0.50)\n",
        "print('Train', X.shape, y.shape, 'Test', X_val.shape, y_val.shape)\n",
        "models = return_models_classification()\n",
        "X,y = X.values,y.values\n",
        "X_meta, y_meta = return_out_of_fold_pred(X, y, models)\n",
        "print('Meta ', X_meta.shape, y_meta.shape)\n",
        "fit_base_models(X, y, models)\n",
        "meta_model = fit_meta_model_classification(X_meta, y_meta)\n",
        "evaluate_models_classification(X_val, y_val, models)\n",
        "yhat = super_learner_predictions(X_val, models, meta_model)\n",
        "print('Super Learner: %.3f' % (accuracy_score(y_val, yhat) * 100))"
      ],
      "metadata": {
        "colab": {
          "base_uri": "https://localhost:8080/"
        },
        "id": "sXBNMAbsTXy0",
        "outputId": "ad37ee37-385e-4dba-e8b9-a115f3f3b538"
      },
      "execution_count": 6,
      "outputs": [
        {
          "output_type": "stream",
          "name": "stdout",
          "text": [
            "Train (42, 11) (42,) Test (43, 11) (43,)\n",
            "Meta  (42, 9) (42,)\n",
            "LogisticRegression: 76.744\n",
            "DecisionTreeClassifier: 86.047\n",
            "SVC: 67.442\n",
            "GaussianNB: 74.419\n",
            "ExtraTreesClassifier: 83.721\n",
            "KNeighborsClassifier: 69.767\n",
            "AdaBoostClassifier: 83.721\n",
            "BaggingClassifier: 86.047\n",
            "RandomForestClassifier: 81.395\n",
            "Super Learner: 81.395\n"
          ]
        }
      ]
    },
    {
      "cell_type": "code",
      "source": [
        "df_test_classification.head()"
      ],
      "metadata": {
        "colab": {
          "base_uri": "https://localhost:8080/",
          "height": 206
        },
        "id": "7tU79rc2T-fc",
        "outputId": "76ae77fb-58a1-4de7-ae99-9e3535a955de"
      },
      "execution_count": 7,
      "outputs": [
        {
          "output_type": "execute_result",
          "data": {
            "text/plain": [
              "   chocolate  fruity  caramel  peanutyalmondy  nougat  crispedricewafer  hard  \\\n",
              "0          1       0        1               0       0                 1     0   \n",
              "1          1       0        0               0       1                 0     0   \n",
              "2          0       0        0               0       0                 0     0   \n",
              "3          0       0        0               0       0                 0     0   \n",
              "4          0       1        0               0       0                 0     0   \n",
              "\n",
              "   bar  pluribus  sugarpercent  pricepercent  winpercent  \n",
              "0    1         0         0.732         0.860   66.971725  \n",
              "1    1         0         0.604         0.511   67.602936  \n",
              "2    0         0         0.011         0.116   32.261086  \n",
              "3    0         0         0.011         0.511   46.116505  \n",
              "4    0         0         0.906         0.511   52.341465  "
            ],
            "text/html": [
              "\n",
              "  <div id=\"df-fcd22c38-8709-4f2c-a773-4b5a8c068272\">\n",
              "    <div class=\"colab-df-container\">\n",
              "      <div>\n",
              "<style scoped>\n",
              "    .dataframe tbody tr th:only-of-type {\n",
              "        vertical-align: middle;\n",
              "    }\n",
              "\n",
              "    .dataframe tbody tr th {\n",
              "        vertical-align: top;\n",
              "    }\n",
              "\n",
              "    .dataframe thead th {\n",
              "        text-align: right;\n",
              "    }\n",
              "</style>\n",
              "<table border=\"1\" class=\"dataframe\">\n",
              "  <thead>\n",
              "    <tr style=\"text-align: right;\">\n",
              "      <th></th>\n",
              "      <th>chocolate</th>\n",
              "      <th>fruity</th>\n",
              "      <th>caramel</th>\n",
              "      <th>peanutyalmondy</th>\n",
              "      <th>nougat</th>\n",
              "      <th>crispedricewafer</th>\n",
              "      <th>hard</th>\n",
              "      <th>bar</th>\n",
              "      <th>pluribus</th>\n",
              "      <th>sugarpercent</th>\n",
              "      <th>pricepercent</th>\n",
              "      <th>winpercent</th>\n",
              "    </tr>\n",
              "  </thead>\n",
              "  <tbody>\n",
              "    <tr>\n",
              "      <th>0</th>\n",
              "      <td>1</td>\n",
              "      <td>0</td>\n",
              "      <td>1</td>\n",
              "      <td>0</td>\n",
              "      <td>0</td>\n",
              "      <td>1</td>\n",
              "      <td>0</td>\n",
              "      <td>1</td>\n",
              "      <td>0</td>\n",
              "      <td>0.732</td>\n",
              "      <td>0.860</td>\n",
              "      <td>66.971725</td>\n",
              "    </tr>\n",
              "    <tr>\n",
              "      <th>1</th>\n",
              "      <td>1</td>\n",
              "      <td>0</td>\n",
              "      <td>0</td>\n",
              "      <td>0</td>\n",
              "      <td>1</td>\n",
              "      <td>0</td>\n",
              "      <td>0</td>\n",
              "      <td>1</td>\n",
              "      <td>0</td>\n",
              "      <td>0.604</td>\n",
              "      <td>0.511</td>\n",
              "      <td>67.602936</td>\n",
              "    </tr>\n",
              "    <tr>\n",
              "      <th>2</th>\n",
              "      <td>0</td>\n",
              "      <td>0</td>\n",
              "      <td>0</td>\n",
              "      <td>0</td>\n",
              "      <td>0</td>\n",
              "      <td>0</td>\n",
              "      <td>0</td>\n",
              "      <td>0</td>\n",
              "      <td>0</td>\n",
              "      <td>0.011</td>\n",
              "      <td>0.116</td>\n",
              "      <td>32.261086</td>\n",
              "    </tr>\n",
              "    <tr>\n",
              "      <th>3</th>\n",
              "      <td>0</td>\n",
              "      <td>0</td>\n",
              "      <td>0</td>\n",
              "      <td>0</td>\n",
              "      <td>0</td>\n",
              "      <td>0</td>\n",
              "      <td>0</td>\n",
              "      <td>0</td>\n",
              "      <td>0</td>\n",
              "      <td>0.011</td>\n",
              "      <td>0.511</td>\n",
              "      <td>46.116505</td>\n",
              "    </tr>\n",
              "    <tr>\n",
              "      <th>4</th>\n",
              "      <td>0</td>\n",
              "      <td>1</td>\n",
              "      <td>0</td>\n",
              "      <td>0</td>\n",
              "      <td>0</td>\n",
              "      <td>0</td>\n",
              "      <td>0</td>\n",
              "      <td>0</td>\n",
              "      <td>0</td>\n",
              "      <td>0.906</td>\n",
              "      <td>0.511</td>\n",
              "      <td>52.341465</td>\n",
              "    </tr>\n",
              "  </tbody>\n",
              "</table>\n",
              "</div>\n",
              "      <button class=\"colab-df-convert\" onclick=\"convertToInteractive('df-fcd22c38-8709-4f2c-a773-4b5a8c068272')\"\n",
              "              title=\"Convert this dataframe to an interactive table.\"\n",
              "              style=\"display:none;\">\n",
              "        \n",
              "  <svg xmlns=\"http://www.w3.org/2000/svg\" height=\"24px\"viewBox=\"0 0 24 24\"\n",
              "       width=\"24px\">\n",
              "    <path d=\"M0 0h24v24H0V0z\" fill=\"none\"/>\n",
              "    <path d=\"M18.56 5.44l.94 2.06.94-2.06 2.06-.94-2.06-.94-.94-2.06-.94 2.06-2.06.94zm-11 1L8.5 8.5l.94-2.06 2.06-.94-2.06-.94L8.5 2.5l-.94 2.06-2.06.94zm10 10l.94 2.06.94-2.06 2.06-.94-2.06-.94-.94-2.06-.94 2.06-2.06.94z\"/><path d=\"M17.41 7.96l-1.37-1.37c-.4-.4-.92-.59-1.43-.59-.52 0-1.04.2-1.43.59L10.3 9.45l-7.72 7.72c-.78.78-.78 2.05 0 2.83L4 21.41c.39.39.9.59 1.41.59.51 0 1.02-.2 1.41-.59l7.78-7.78 2.81-2.81c.8-.78.8-2.07 0-2.86zM5.41 20L4 18.59l7.72-7.72 1.47 1.35L5.41 20z\"/>\n",
              "  </svg>\n",
              "      </button>\n",
              "      \n",
              "  <style>\n",
              "    .colab-df-container {\n",
              "      display:flex;\n",
              "      flex-wrap:wrap;\n",
              "      gap: 12px;\n",
              "    }\n",
              "\n",
              "    .colab-df-convert {\n",
              "      background-color: #E8F0FE;\n",
              "      border: none;\n",
              "      border-radius: 50%;\n",
              "      cursor: pointer;\n",
              "      display: none;\n",
              "      fill: #1967D2;\n",
              "      height: 32px;\n",
              "      padding: 0 0 0 0;\n",
              "      width: 32px;\n",
              "    }\n",
              "\n",
              "    .colab-df-convert:hover {\n",
              "      background-color: #E2EBFA;\n",
              "      box-shadow: 0px 1px 2px rgba(60, 64, 67, 0.3), 0px 1px 3px 1px rgba(60, 64, 67, 0.15);\n",
              "      fill: #174EA6;\n",
              "    }\n",
              "\n",
              "    [theme=dark] .colab-df-convert {\n",
              "      background-color: #3B4455;\n",
              "      fill: #D2E3FC;\n",
              "    }\n",
              "\n",
              "    [theme=dark] .colab-df-convert:hover {\n",
              "      background-color: #434B5C;\n",
              "      box-shadow: 0px 1px 3px 1px rgba(0, 0, 0, 0.15);\n",
              "      filter: drop-shadow(0px 1px 2px rgba(0, 0, 0, 0.3));\n",
              "      fill: #FFFFFF;\n",
              "    }\n",
              "  </style>\n",
              "\n",
              "      <script>\n",
              "        const buttonEl =\n",
              "          document.querySelector('#df-fcd22c38-8709-4f2c-a773-4b5a8c068272 button.colab-df-convert');\n",
              "        buttonEl.style.display =\n",
              "          google.colab.kernel.accessAllowed ? 'block' : 'none';\n",
              "\n",
              "        async function convertToInteractive(key) {\n",
              "          const element = document.querySelector('#df-fcd22c38-8709-4f2c-a773-4b5a8c068272');\n",
              "          const dataTable =\n",
              "            await google.colab.kernel.invokeFunction('convertToInteractive',\n",
              "                                                     [key], {});\n",
              "          if (!dataTable) return;\n",
              "\n",
              "          const docLinkHtml = 'Like what you see? Visit the ' +\n",
              "            '<a target=\"_blank\" href=https://colab.research.google.com/notebooks/data_table.ipynb>data table notebook</a>'\n",
              "            + ' to learn more about interactive tables.';\n",
              "          element.innerHTML = '';\n",
              "          dataTable['output_type'] = 'display_data';\n",
              "          await google.colab.output.renderOutput(dataTable, element);\n",
              "          const docLink = document.createElement('div');\n",
              "          docLink.innerHTML = docLinkHtml;\n",
              "          element.appendChild(docLink);\n",
              "        }\n",
              "      </script>\n",
              "    </div>\n",
              "  </div>\n",
              "  "
            ]
          },
          "metadata": {},
          "execution_count": 7
        }
      ]
    },
    {
      "cell_type": "markdown",
      "source": [
        "The dataset shape, meta dataset, base-models' performance on holdout data, and super model's slight improvement are reported."
      ],
      "metadata": {
        "id": "RhJh0WVq8PjA"
      }
    },
    {
      "cell_type": "markdown",
      "source": [
        "# **Super Learner With ML-Ensemble Library**"
      ],
      "metadata": {
        "id": "MiHkw7FQ8RrW"
      }
    },
    {
      "cell_type": "code",
      "source": [
        "# Super learner in regression with mlens\n",
        "def get_super_learner(X):\n",
        "\tensemble = SuperLearner(scorer='rmse', folds=10, shuffle=True, sample_size=len(X))\n",
        "\t# add base models\n",
        "\tmodels = return_models_regression()\n",
        "\tensemble.add(models)\n",
        "\t# add the meta model\n",
        "\tensemble.add_meta(LinearRegression())\n",
        "\treturn ensemble\n",
        "\n",
        "X, y = make_regression(n_samples=1000, n_features=100, noise=0.5)\n",
        "X, X_val, y, y_val = train_test_split(X, y, test_size=0.50)\n",
        "print('Train', X.shape, y.shape, 'Test', X_val.shape, y_val.shape)\n",
        "ensemble = get_super_learner(X)\n",
        "ensemble.fit(X, y)\n",
        "print(ensemble.data)\n",
        "yhat = ensemble.predict(X_val)\n",
        "print('Super Learner: RMSE %.3f' % (sqrt(mean_squared_error(y_val, yhat))))"
      ],
      "metadata": {
        "colab": {
          "base_uri": "https://localhost:8080/"
        },
        "id": "0mSzvOH78erx",
        "outputId": "529db4c7-e15f-470f-dbc0-8c302fc161f3"
      },
      "execution_count": 8,
      "outputs": [
        {
          "output_type": "stream",
          "name": "stdout",
          "text": [
            "Train (500, 100) (500,) Test (500, 100) (500,)\n",
            "                                  ft-m  ft-s  pt-m  pt-s\n",
            "layer-1  adaboostregressor        0.81  0.03  0.01  0.00\n",
            "layer-1  baggingregressor         0.45  0.13  0.00  0.00\n",
            "layer-1  decisiontreeregressor    0.09  0.02  0.00  0.00\n",
            "layer-1  elasticnet               0.01  0.00  0.00  0.00\n",
            "layer-1  extratreesregressor      0.28  0.03  0.00  0.00\n",
            "layer-1  kneighborsregressor      0.00  0.00  0.00  0.00\n",
            "layer-1  linearregression         0.03  0.00  0.00  0.00\n",
            "layer-1  randomforestregressor    0.45  0.19  0.00  0.00\n",
            "layer-1  svr                      0.06  0.03  0.01  0.00\n",
            "\n",
            "Super Learner: RMSE 0.564\n"
          ]
        }
      ]
    },
    {
      "cell_type": "code",
      "source": [
        "X,y = df_test_regression.loc[:,df_test_regression.columns!= 'Apparent Temperature (C)'], df_test_regression['Apparent Temperature (C)']\n",
        "X, X_val, y, y_val = train_test_split(X,y, test_size=0.50)\n",
        "X = X.values\n",
        "y = y.values\n",
        "print('Train', X.shape, y.shape, 'Test', X_val.shape, y_val.shape)\n",
        "ensemble = get_super_learner(X)\n",
        "ensemble.fit(X, y)\n",
        "print(ensemble.data)\n",
        "yhat = ensemble.predict(X_val)\n",
        "print('Super Learner: RMSE %.3f' % (sqrt(mean_squared_error(y_val, yhat))))"
      ],
      "metadata": {
        "colab": {
          "base_uri": "https://localhost:8080/"
        },
        "id": "7Iowr5qsUxXM",
        "outputId": "e28b8955-e4d9-46d3-bab3-92cb78eedd4c"
      },
      "execution_count": 9,
      "outputs": [
        {
          "output_type": "stream",
          "name": "stdout",
          "text": [
            "Train (500, 7) (500,) Test (500, 7) (500,)\n",
            "                                  ft-m  ft-s  pt-m  pt-s\n",
            "layer-1  adaboostregressor        0.37  0.09  0.02  0.01\n",
            "layer-1  baggingregressor         0.06  0.00  0.00  0.00\n",
            "layer-1  decisiontreeregressor    0.00  0.00  0.00  0.00\n",
            "layer-1  elasticnet               0.00  0.00  0.00  0.00\n",
            "layer-1  extratreesregressor      0.04  0.01  0.01  0.00\n",
            "layer-1  kneighborsregressor      0.00  0.00  0.00  0.00\n",
            "layer-1  linearregression         0.00  0.00  0.00  0.00\n",
            "layer-1  randomforestregressor    0.05  0.00  0.00  0.00\n",
            "layer-1  svr                      0.02  0.00  0.00  0.00\n",
            "\n",
            "Super Learner: RMSE 0.689\n"
          ]
        }
      ]
    },
    {
      "cell_type": "markdown",
      "source": [
        "Running example reports RMSE for base-models and super learner. Fast fitting and evaluation due to multi-threading. Super learner performs well. Cannot compare base learner scores to super learner as they were trained on different datasets."
      ],
      "metadata": {
        "id": "oY3dlW-z8iCM"
      }
    },
    {
      "cell_type": "markdown",
      "source": [
        "# **Super Learner for Classification With the ML-Ensemble Library**"
      ],
      "metadata": {
        "id": "O4XSl8GR8kNU"
      }
    },
    {
      "cell_type": "markdown",
      "source": [
        "The ML-Ensemble is easy to use for classification using classifier models and logistic regression as the meta-model. Example of fitting a test classification problem with super learner model using mlens library."
      ],
      "metadata": {
        "id": "pwnVvqu28m-h"
      }
    },
    {
      "cell_type": "code",
      "source": [
        "# create the super learner\n",
        "def get_super_learner(X):\n",
        "\tensemble = SuperLearner(scorer=accuracy_score, folds=10, shuffle=True, sample_size=len(X))\n",
        "\t# add base models\n",
        "\tmodels = return_models_classification()\n",
        "\tensemble.add(models)\n",
        "\t# add the meta model\n",
        "\tensemble.add_meta(LogisticRegression(solver='lbfgs'))\n",
        "\treturn ensemble\n",
        "\n",
        "X, y = make_blobs(n_samples=1000, centers=2, n_features=100, cluster_std=20)\n",
        "X, X_val, y, y_val = train_test_split(X, y, test_size=0.50)\n",
        "print('Train', X.shape, y.shape, 'Test', X_val.shape, y_val.shape)\n",
        "ensemble = get_super_learner(X)\n",
        "ensemble.fit(X, y)\n",
        "print(ensemble.data)\n",
        "yhat = ensemble.predict(X_val)\n",
        "print('Super Learner: %.3f' % (accuracy_score(y_val, yhat) * 100))"
      ],
      "metadata": {
        "colab": {
          "base_uri": "https://localhost:8080/"
        },
        "id": "vJqOtSVo8pam",
        "outputId": "e5986eb4-f209-488a-9cad-349c89ae878a"
      },
      "execution_count": 10,
      "outputs": [
        {
          "output_type": "stream",
          "name": "stdout",
          "text": [
            "Train (500, 100) (500,) Test (500, 100) (500,)\n",
            "                                   score-m  score-s  ft-m  ft-s  pt-m  pt-s\n",
            "layer-1  adaboostclassifier           0.91     0.02  1.28  0.30  0.03  0.01\n",
            "layer-1  baggingclassifier            0.81     0.06  0.61  0.04  0.01  0.00\n",
            "layer-1  decisiontreeclassifier       0.72     0.06  0.08  0.02  0.00  0.00\n",
            "layer-1  extratreesclassifier         0.83     0.06  0.07  0.02  0.01  0.01\n",
            "layer-1  gaussiannb                   0.97     0.02  0.00  0.00  0.00  0.00\n",
            "layer-1  kneighborsclassifier         0.90     0.04  0.00  0.00  0.01  0.00\n",
            "layer-1  logisticregression           0.95     0.02  0.15  0.02  0.00  0.00\n",
            "layer-1  randomforestclassifier       0.82     0.06  0.14  0.02  0.01  0.01\n",
            "layer-1  svc                          0.97     0.03  0.32  0.06  0.01  0.01\n",
            "\n",
            "Super Learner: 96.400\n"
          ]
        }
      ]
    },
    {
      "cell_type": "code",
      "source": [
        "X,y = df_test_classification.loc[:,df_test_classification.columns!= 'chocolate'], df_test_classification['chocolate']\n",
        "X, X_val, y, y_val = train_test_split(X,y, test_size=0.50)\n",
        "X,y,X_val,y_val = X.values,y.values,X_val.values,y_val.values\n",
        "print('Train', X.shape, y.shape, 'Test', X_val.shape, y_val.shape)\n",
        "ensemble = get_super_learner(X)\n",
        "ensemble.fit(X, y)\n",
        "print(ensemble.data)\n",
        "yhat = ensemble.predict(X_val)\n",
        "print('Super Learner: %.3f' % (accuracy_score(y_val, [round(yi) for yi in yhat]) * 100))"
      ],
      "metadata": {
        "colab": {
          "base_uri": "https://localhost:8080/"
        },
        "id": "XFkYP25dVN3c",
        "outputId": "829222f0-fed9-4dee-80ee-1819eb97f413"
      },
      "execution_count": 15,
      "outputs": [
        {
          "output_type": "stream",
          "name": "stdout",
          "text": [
            "Train (42, 11) (42,) Test (43, 11) (43,)\n",
            "                                   score-m  score-s  ft-m  ft-s  pt-m  pt-s\n",
            "layer-1  adaboostclassifier           0.77     0.15  0.28  0.02  0.03  0.01\n",
            "layer-1  baggingclassifier            0.77     0.15  0.06  0.01  0.00  0.00\n",
            "layer-1  decisiontreeclassifier       0.72     0.19  0.00  0.00  0.00  0.00\n",
            "layer-1  extratreesclassifier         0.86     0.16  0.05  0.01  0.01  0.01\n",
            "layer-1  gaussiannb                   0.86     0.14  0.00  0.00  0.00  0.00\n",
            "layer-1  kneighborsclassifier         0.81     0.13  0.00  0.00  0.00  0.00\n",
            "layer-1  logisticregression           0.84     0.14  0.05  0.01  0.00  0.00\n",
            "layer-1  randomforestclassifier       0.84     0.14  0.10  0.01  0.01  0.01\n",
            "layer-1  svc                          0.82     0.17  0.00  0.00  0.00  0.00\n",
            "\n",
            "Super Learner: 93.023\n"
          ]
        }
      ]
    },
    {
      "cell_type": "markdown",
      "source": [
        "Running the example shows dataset shape, base-model and super learner performance on the holdout dataset. The super learner performs well and is quickly evaluated."
      ],
      "metadata": {
        "id": "kA1f0UVE8sLT"
      }
    },
    {
      "cell_type": "markdown",
      "source": [
        "# **Summary**\n",
        "\n",
        "We found the super learner ensemble ML algorithm. It applies stacked generalization with out-of-fold predictions in k-fold cross-validation. The super learner ensemble algorithm can be easily implemented in Python with the ML-Ensemble library, allowing for a quick and simple fit."
      ],
      "metadata": {
        "id": "wdqgWUHb8xkJ"
      }
    },
    {
      "cell_type": "markdown",
      "source": [
        "# **Bagging Ensemble of Deep Learning Models in Keras**"
      ],
      "metadata": {
        "id": "hVRY9HDW-DZr"
      }
    },
    {
      "cell_type": "markdown",
      "source": [
        "Ensemble learning uses multiple models to improve predictions for better accuracy and stability. Train diverse models by using subsets of data with methods like cross-validation and bootstrap for estimating their performance on unseen data. Create resampling-based ensembles for deep learning neural networks. \"Estimate performance and create ensemble with cross-validation.\" \"Bootstrap to estimate performance, then bagging ensemble.\""
      ],
      "metadata": {
        "id": "lNdtqbQ7-HWr"
      }
    },
    {
      "cell_type": "markdown",
      "source": [
        "# **Data Resampling Ensembles**\n",
        "\n",
        "Ensemble models improve forecasts with diverse and skilled members having low correlation in their predictions. Resampling with the same algorithm enhances predictions by estimating generalization error with subsamples without fitting to all training data. 3 resampling methods: Random splits & Cross-Validation. Dataset split into k folds, k models trained, Bootstrap Aggregation used with each fold as holdout set. Replace samples, unused become test set. Popular method: bagging. Resampling with replacement increases variance and differences in predictions. Only one train/test split needed if reliable performance estimate unnecessary. Ensemble models improve performance, but a single neural network suffices with limited resources. NNs are flexible, so resampling may not always improve performance, but is useful for model selection. Use resampling ensemble methods for the new model."
      ],
      "metadata": {
        "id": "M3ik3wtW-K37"
      }
    },
    {
      "cell_type": "markdown",
      "source": [
        "# **Multi-Class Classification Problem**\n",
        "\n",
        "We'll demonstrate model resampling ensembles using make_blobs() from scikit-learn with a multi-class classification problem. We'll use 1k examples, 2.0 stdev for grouping, and a consistent random state to solve the problem with x and y as inputs. Our tool is a neural network that predicts probabilities for multi-class classification using one hot encoding. Split data for evaluation and learning: 90% train, 10% test. Suggested shortened text: \"To improve complex classification, create a model with a 50-node hidden layer, rectified linear activation, and more data for optimal learning. – 2 input samples.\" Output layer has three nodes with softmax activation for predicting class probabilities. We'll use categorical cross-entropy loss and Adam SGD for a 50-epoch model fit, evaluated on the test set after each epoch. Evaluate model on train and test, plot learning curves for accuracy."
      ],
      "metadata": {
        "id": "3hBLMDqs-OmV"
      }
    },
    {
      "cell_type": "code",
      "source": [
        "# develop an mlp for blobs dataset\n",
        "# generate 2d classification dataset\n",
        "X, y = make_blobs(n_samples=1000, centers=3, n_features=2, cluster_std=2, random_state=2)\n",
        "# one hot encode output variable\n",
        "y = to_categorical(y)\n",
        "# split into train and test\n",
        "n_train = int(0.9 * X.shape[0])\n",
        "trainX, testX = X[:n_train, :], X[n_train:, :]\n",
        "trainy, testy = y[:n_train], y[n_train:]\n",
        "# define model\n",
        "model = Sequential()\n",
        "model.add(Dense(50, input_dim=2, activation='relu'))\n",
        "model.add(Dense(3, activation='softmax'))\n",
        "model.compile(loss='categorical_crossentropy', optimizer='adam', metrics=['accuracy'])\n",
        "# fit model\n",
        "history = model.fit(trainX, trainy, validation_data=(testX, testy), epochs=50, verbose=0)\n",
        "# evaluate the model\n",
        "_, train_acc = model.evaluate(trainX, trainy, verbose=0)\n",
        "_, test_acc = model.evaluate(testX, testy, verbose=0)\n",
        "print('Train: %.3f, Test: %.3f' % (train_acc, test_acc))\n",
        "# learning curves of model accuracy\n",
        "pyplot.plot(history.history['accuracy'], label='train')\n",
        "pyplot.plot(history.history['val_accuracy'], label='test')\n",
        "pyplot.legend()\n",
        "pyplot.show()"
      ],
      "metadata": {
        "colab": {
          "base_uri": "https://localhost:8080/",
          "height": 448
        },
        "id": "sxgBOmZn-eED",
        "outputId": "ffb07260-62b3-452d-b7c8-cac47aae8c98"
      },
      "execution_count": 13,
      "outputs": [
        {
          "output_type": "stream",
          "name": "stdout",
          "text": [
            "Train: 0.829, Test: 0.860\n"
          ]
        },
        {
          "output_type": "display_data",
          "data": {
            "text/plain": [
              "<Figure size 640x480 with 1 Axes>"
            ],
            "image/png": "[encoded data removed]"
          },
          "metadata": {}
        }
      ]
    },
    {
      "cell_type": "markdown",
      "source": [
        "The output shows the model's performance on train and test sets - around 83% and 86% accuracy, respectively. Dataset split leads to optimistic bias in test set. Model's accuracy on train and test sets are shown in plot with stable fit."
      ],
      "metadata": {
        "id": "0NmNFdZA-hJz"
      }
    },
    {
      "cell_type": "code",
      "source": [
        "X,y = df_test_classification.loc[:,df_test_classification.columns!= 'chocolate'], df_test_classification['chocolate']\n",
        "y = to_categorical(y)\n",
        "X, X_val, y, y_val = train_test_split(X,y, test_size=0.50)\n",
        "X,y,X_val,y_val = X.values,y,X_val.values,y_val\n",
        "print('Train', X.shape, y.shape, 'Test', X_val.shape, y_val.shape)\n",
        "\n",
        "# define model\n",
        "model = Sequential()\n",
        "model.add(Dense(50, input_dim=X.shape[1], activation='relu'))\n",
        "model.add(Dense(2, activation='softmax'))\n",
        "model.compile(loss='categorical_crossentropy', optimizer='adam', metrics=['accuracy'])\n",
        "# fit model\n",
        "history = model.fit(X, y, validation_data=(X_val, y_val), epochs=50, verbose=0)\n",
        "# evaluate the model\n",
        "_, train_acc = model.evaluate(X, y, verbose=0)\n",
        "_, test_acc = model.evaluate(X_val, y_val, verbose=0)\n",
        "print('Train: %.3f, Test: %.3f' % (train_acc, test_acc))\n",
        "# learning curves of model accuracy\n",
        "pyplot.plot(history.history['accuracy'], label='train')\n",
        "pyplot.plot(history.history['val_accuracy'], label='test')\n",
        "pyplot.legend()\n",
        "pyplot.show()"
      ],
      "metadata": {
        "colab": {
          "base_uri": "https://localhost:8080/",
          "height": 466
        },
        "id": "cL12Y6dSNDNk",
        "outputId": "9de6f449-3440-4f99-cea6-97e9de64bc14"
      },
      "execution_count": 27,
      "outputs": [
        {
          "output_type": "stream",
          "name": "stdout",
          "text": [
            "Train (42, 11) (42, 2) Test (43, 11) (43, 2)\n",
            "Train: 0.714, Test: 0.791\n"
          ]
        },
        {
          "output_type": "display_data",
          "data": {
            "text/plain": [
              "<Figure size 640x480 with 1 Axes>"
            ],
            "image/png": "[encoded data removed]"
          },
          "metadata": {}
        }
      ]
    },
    {
      "cell_type": "markdown",
      "source": [
        "# **Random Splits Ensemble**"
      ],
      "metadata": {
        "id": "PHppAB6--mJJ"
      }
    },
    {
      "cell_type": "markdown",
      "source": [
        "Resampling creates new models from fresh training and testing splits to enhance predictability. By averaging and combining models from random splits, we improve estimation, stability, and performance. 10x increase in sample points for improved evaluation. Demo data for display, not for training. We require functions to train, evaluate and get a model for an ensemble using both 5k and 50k examples. The evaluate_model() splits data randomly and fits models on them. Use train_test_split() to divide data and test 10% of 5,000. Assess model and add to lists. Reduce splits, fit 10 models, and evaluate performance. Test 1-10 member groups to find optimal ensemble size for best results. Evaluate models on saved data, compute accuracy scores, compare ensemble size with holdout accuracy. No text provided."
      ],
      "metadata": {
        "id": "FXp8iwFG-o9G"
      }
    },
    {
      "cell_type": "code",
      "source": [
        "# random-splits mlp ensemble on blobs dataset\n",
        "# evaluate a single mlp model\n",
        "def evaluate_model(X_train, y_train, X_test, y_test):\n",
        "    # encode targets\n",
        "    y_train_enc = to_categorical(y_train)\n",
        "    y_test_enc = to_categorical(y_test)\n",
        "    # define model\n",
        "    model = Sequential()\n",
        "    model.add(Dense(50, input_dim=X_train.shape[1], activation='relu'))\n",
        "    model.add(Dense(y_train_enc.shape[1], activation='softmax'))\n",
        "    model.compile(loss='categorical_crossentropy', optimizer='adam', metrics=['accuracy'])\n",
        "    # fit model\n",
        "    model.fit(X_train, y_train_enc, epochs=50, verbose=0)\n",
        "    # evaluate the model\n",
        "    _, test_acc = model.evaluate(X_test, y_test_enc, verbose=0)\n",
        "    return model, test_acc\n",
        "\n",
        "# make an ensemble prediction for multi-class classification\n",
        "def ensemble_predictions(members, X_test):\n",
        "\t# make predictions\n",
        "\tyhats = [model.predict(X_test) for model in members]\n",
        "\tyhats = array(yhats)\n",
        "\t# sum across ensemble members\n",
        "\tsummed = sum(yhats, axis=0)\n",
        "\t# argmax across classes\n",
        "\tresult = argmax(summed, axis=1)\n",
        "\treturn result\n",
        "\n",
        "# evaluate a specific number of members in an ensemble\n",
        "def evaluate_n_members(members, n_members, X_test, y_test):\n",
        "\t# select a subset of members\n",
        "\tsubset = members[:n_members]\n",
        "\t# make prediction\n",
        "\tyhat = ensemble_predictions(subset, X_test)\n",
        "\t# calculate accuracy\n",
        "\treturn accuracy_score(y_test, yhat)\n",
        "\n",
        "# generate 2d classification dataset\n",
        "dataX, datay = make_blobs(n_samples=55000, centers=3, n_features=2, cluster_std=2, random_state=2)\n",
        "X, newX = dataX[:5000, :], dataX[5000:, :]\n",
        "y, newy = datay[:5000], datay[5000:]\n",
        "# multiple train-test splits\n",
        "n_splits = 10\n",
        "scores, members = list(), list()\n",
        "for _ in range(n_splits):\n",
        "\t# split data\n",
        "\ttrainX, testX, trainy, testy = train_test_split(X, y, test_size=0.10)\n",
        "\t# evaluate model\n",
        "\tmodel, test_acc = evaluate_model(trainX, trainy, testX, testy)\n",
        "\tprint('>%.3f' % test_acc)\n",
        "\tscores.append(test_acc)\n",
        "\tmembers.append(model)\n",
        "# summarize expected performance\n",
        "print('Estimated Accuracy %.3f (%.3f)' % (mean(scores), std(scores)))\n",
        "# evaluate different numbers of ensembles on hold out set\n",
        "single_scores, ensemble_scores = list(), list()\n",
        "for i in range(1, n_splits+1):\n",
        "\tensemble_score = evaluate_n_members(members, i, newX, newy)\n",
        "\tnewy_enc = to_categorical(newy)\n",
        "\t_, single_score = members[i-1].evaluate(newX, newy_enc, verbose=0)\n",
        "\tprint('> %d: single=%.3f, ensemble=%.3f' % (i, single_score, ensemble_score))\n",
        "\tensemble_scores.append(ensemble_score)\n",
        "\tsingle_scores.append(single_score)\n",
        "# plot score vs number of ensemble members\n",
        "print('Accuracy %.3f (%.3f)' % (mean(single_scores), std(single_scores)))\n",
        "x_axis = [i for i in range(1, n_splits+1)]\n",
        "pyplot.plot(x_axis, single_scores, marker='o', linestyle='None')\n",
        "pyplot.plot(x_axis, ensemble_scores, marker='o')\n",
        "pyplot.show()"
      ],
      "metadata": {
        "colab": {
          "base_uri": "https://localhost:8080/",
          "height": 414
        },
        "id": "rMxqu262-2rt",
        "outputId": "92929c7e-df3f-44bc-897f-defdb209b180"
      },
      "execution_count": 58,
      "outputs": [
        {
          "output_type": "stream",
          "name": "stdout",
          "text": [
            ">0.818\n"
          ]
        },
        {
          "output_type": "error",
          "ename": "KeyboardInterrupt",
          "evalue": "ignored",
          "traceback": [
            "\u001b[0;31m---------------------------------------------------------------------------\u001b[0m",
            "\u001b[0;31mKeyboardInterrupt\u001b[0m                         Traceback (most recent call last)",
            "\u001b[0;32m<ipython-input-58-7f01d9770fed>\u001b[0m in \u001b[0;36m<cell line: 45>\u001b[0;34m()\u001b[0m\n\u001b[1;32m     47\u001b[0m         \u001b[0mtrainX\u001b[0m\u001b[0;34m,\u001b[0m \u001b[0mtestX\u001b[0m\u001b[0;34m,\u001b[0m \u001b[0mtrainy\u001b[0m\u001b[0;34m,\u001b[0m \u001b[0mtesty\u001b[0m \u001b[0;34m=\u001b[0m \u001b[0mtrain_test_split\u001b[0m\u001b[0;34m(\u001b[0m\u001b[0mX\u001b[0m\u001b[0;34m,\u001b[0m \u001b[0my\u001b[0m\u001b[0;34m,\u001b[0m \u001b[0mtest_size\u001b[0m\u001b[0;34m=\u001b[0m\u001b[0;36m0.10\u001b[0m\u001b[0;34m)\u001b[0m\u001b[0;34m\u001b[0m\u001b[0;34m\u001b[0m\u001b[0m\n\u001b[1;32m     48\u001b[0m         \u001b[0;31m# evaluate model\u001b[0m\u001b[0;34m\u001b[0m\u001b[0;34m\u001b[0m\u001b[0m\n\u001b[0;32m---> 49\u001b[0;31m         \u001b[0mmodel\u001b[0m\u001b[0;34m,\u001b[0m \u001b[0mtest_acc\u001b[0m \u001b[0;34m=\u001b[0m \u001b[0mevaluate_model\u001b[0m\u001b[0;34m(\u001b[0m\u001b[0mtrainX\u001b[0m\u001b[0;34m,\u001b[0m \u001b[0mtrainy\u001b[0m\u001b[0;34m,\u001b[0m \u001b[0mtestX\u001b[0m\u001b[0;34m,\u001b[0m \u001b[0mtesty\u001b[0m\u001b[0;34m)\u001b[0m\u001b[0;34m\u001b[0m\u001b[0;34m\u001b[0m\u001b[0m\n\u001b[0m\u001b[1;32m     50\u001b[0m         \u001b[0mprint\u001b[0m\u001b[0;34m(\u001b[0m\u001b[0;34m'>%.3f'\u001b[0m \u001b[0;34m%\u001b[0m \u001b[0mtest_acc\u001b[0m\u001b[0;34m)\u001b[0m\u001b[0;34m\u001b[0m\u001b[0;34m\u001b[0m\u001b[0m\n\u001b[1;32m     51\u001b[0m         \u001b[0mscores\u001b[0m\u001b[0;34m.\u001b[0m\u001b[0mappend\u001b[0m\u001b[0;34m(\u001b[0m\u001b[0mtest_acc\u001b[0m\u001b[0;34m)\u001b[0m\u001b[0;34m\u001b[0m\u001b[0;34m\u001b[0m\u001b[0m\n",
            "\u001b[0;32m<ipython-input-58-7f01d9770fed>\u001b[0m in \u001b[0;36mevaluate_model\u001b[0;34m(X_train, y_train, X_test, y_test)\u001b[0m\n\u001b[1;32m     11\u001b[0m     \u001b[0mmodel\u001b[0m\u001b[0;34m.\u001b[0m\u001b[0mcompile\u001b[0m\u001b[0;34m(\u001b[0m\u001b[0mloss\u001b[0m\u001b[0;34m=\u001b[0m\u001b[0;34m'categorical_crossentropy'\u001b[0m\u001b[0;34m,\u001b[0m \u001b[0moptimizer\u001b[0m\u001b[0;34m=\u001b[0m\u001b[0;34m'adam'\u001b[0m\u001b[0;34m,\u001b[0m \u001b[0mmetrics\u001b[0m\u001b[0;34m=\u001b[0m\u001b[0;34m[\u001b[0m\u001b[0;34m'accuracy'\u001b[0m\u001b[0;34m]\u001b[0m\u001b[0;34m)\u001b[0m\u001b[0;34m\u001b[0m\u001b[0;34m\u001b[0m\u001b[0m\n\u001b[1;32m     12\u001b[0m     \u001b[0;31m# fit model\u001b[0m\u001b[0;34m\u001b[0m\u001b[0;34m\u001b[0m\u001b[0m\n\u001b[0;32m---> 13\u001b[0;31m     \u001b[0mmodel\u001b[0m\u001b[0;34m.\u001b[0m\u001b[0mfit\u001b[0m\u001b[0;34m(\u001b[0m\u001b[0mX_train\u001b[0m\u001b[0;34m,\u001b[0m \u001b[0my_train_enc\u001b[0m\u001b[0;34m,\u001b[0m \u001b[0mepochs\u001b[0m\u001b[0;34m=\u001b[0m\u001b[0;36m50\u001b[0m\u001b[0;34m,\u001b[0m \u001b[0mverbose\u001b[0m\u001b[0;34m=\u001b[0m\u001b[0;36m0\u001b[0m\u001b[0;34m)\u001b[0m\u001b[0;34m\u001b[0m\u001b[0;34m\u001b[0m\u001b[0m\n\u001b[0m\u001b[1;32m     14\u001b[0m     \u001b[0;31m# evaluate the model\u001b[0m\u001b[0;34m\u001b[0m\u001b[0;34m\u001b[0m\u001b[0m\n\u001b[1;32m     15\u001b[0m     \u001b[0m_\u001b[0m\u001b[0;34m,\u001b[0m \u001b[0mtest_acc\u001b[0m \u001b[0;34m=\u001b[0m \u001b[0mmodel\u001b[0m\u001b[0;34m.\u001b[0m\u001b[0mevaluate\u001b[0m\u001b[0;34m(\u001b[0m\u001b[0mX_test\u001b[0m\u001b[0;34m,\u001b[0m \u001b[0my_test_enc\u001b[0m\u001b[0;34m,\u001b[0m \u001b[0mverbose\u001b[0m\u001b[0;34m=\u001b[0m\u001b[0;36m0\u001b[0m\u001b[0;34m)\u001b[0m\u001b[0;34m\u001b[0m\u001b[0;34m\u001b[0m\u001b[0m\n",
            "\u001b[0;32m/usr/local/lib/python3.9/dist-packages/keras/utils/traceback_utils.py\u001b[0m in \u001b[0;36merror_handler\u001b[0;34m(*args, **kwargs)\u001b[0m\n\u001b[1;32m     63\u001b[0m         \u001b[0mfiltered_tb\u001b[0m \u001b[0;34m=\u001b[0m \u001b[0;32mNone\u001b[0m\u001b[0;34m\u001b[0m\u001b[0;34m\u001b[0m\u001b[0m\n\u001b[1;32m     64\u001b[0m         \u001b[0;32mtry\u001b[0m\u001b[0;34m:\u001b[0m\u001b[0;34m\u001b[0m\u001b[0;34m\u001b[0m\u001b[0m\n\u001b[0;32m---> 65\u001b[0;31m             \u001b[0;32mreturn\u001b[0m \u001b[0mfn\u001b[0m\u001b[0;34m(\u001b[0m\u001b[0;34m*\u001b[0m\u001b[0margs\u001b[0m\u001b[0;34m,\u001b[0m \u001b[0;34m**\u001b[0m\u001b[0mkwargs\u001b[0m\u001b[0;34m)\u001b[0m\u001b[0;34m\u001b[0m\u001b[0;34m\u001b[0m\u001b[0m\n\u001b[0m\u001b[1;32m     66\u001b[0m         \u001b[0;32mexcept\u001b[0m \u001b[0mException\u001b[0m \u001b[0;32mas\u001b[0m \u001b[0me\u001b[0m\u001b[0;34m:\u001b[0m\u001b[0;34m\u001b[0m\u001b[0;34m\u001b[0m\u001b[0m\n\u001b[1;32m     67\u001b[0m             \u001b[0mfiltered_tb\u001b[0m \u001b[0;34m=\u001b[0m \u001b[0m_process_traceback_frames\u001b[0m\u001b[0;34m(\u001b[0m\u001b[0me\u001b[0m\u001b[0;34m.\u001b[0m\u001b[0m__traceback__\u001b[0m\u001b[0;34m)\u001b[0m\u001b[0;34m\u001b[0m\u001b[0;34m\u001b[0m\u001b[0m\n",
            "\u001b[0;32m/usr/local/lib/python3.9/dist-packages/keras/engine/training.py\u001b[0m in \u001b[0;36mfit\u001b[0;34m(self, x, y, batch_size, epochs, verbose, callbacks, validation_split, validation_data, shuffle, class_weight, sample_weight, initial_epoch, steps_per_epoch, validation_steps, validation_batch_size, validation_freq, max_queue_size, workers, use_multiprocessing)\u001b[0m\n\u001b[1;32m   1683\u001b[0m                         ):\n\u001b[1;32m   1684\u001b[0m                             \u001b[0mcallbacks\u001b[0m\u001b[0;34m.\u001b[0m\u001b[0mon_train_batch_begin\u001b[0m\u001b[0;34m(\u001b[0m\u001b[0mstep\u001b[0m\u001b[0;34m)\u001b[0m\u001b[0;34m\u001b[0m\u001b[0;34m\u001b[0m\u001b[0m\n\u001b[0;32m-> 1685\u001b[0;31m                             \u001b[0mtmp_logs\u001b[0m \u001b[0;34m=\u001b[0m \u001b[0mself\u001b[0m\u001b[0;34m.\u001b[0m\u001b[0mtrain_function\u001b[0m\u001b[0;34m(\u001b[0m\u001b[0miterator\u001b[0m\u001b[0;34m)\u001b[0m\u001b[0;34m\u001b[0m\u001b[0;34m\u001b[0m\u001b[0m\n\u001b[0m\u001b[1;32m   1686\u001b[0m                             \u001b[0;32mif\u001b[0m \u001b[0mdata_handler\u001b[0m\u001b[0;34m.\u001b[0m\u001b[0mshould_sync\u001b[0m\u001b[0;34m:\u001b[0m\u001b[0;34m\u001b[0m\u001b[0;34m\u001b[0m\u001b[0m\n\u001b[1;32m   1687\u001b[0m                                 \u001b[0mcontext\u001b[0m\u001b[0;34m.\u001b[0m\u001b[0masync_wait\u001b[0m\u001b[0;34m(\u001b[0m\u001b[0;34m)\u001b[0m\u001b[0;34m\u001b[0m\u001b[0;34m\u001b[0m\u001b[0m\n",
            "\u001b[0;32m/usr/local/lib/python3.9/dist-packages/tensorflow/python/util/traceback_utils.py\u001b[0m in \u001b[0;36merror_handler\u001b[0;34m(*args, **kwargs)\u001b[0m\n\u001b[1;32m    148\u001b[0m     \u001b[0mfiltered_tb\u001b[0m \u001b[0;34m=\u001b[0m \u001b[0;32mNone\u001b[0m\u001b[0;34m\u001b[0m\u001b[0;34m\u001b[0m\u001b[0m\n\u001b[1;32m    149\u001b[0m     \u001b[0;32mtry\u001b[0m\u001b[0;34m:\u001b[0m\u001b[0;34m\u001b[0m\u001b[0;34m\u001b[0m\u001b[0m\n\u001b[0;32m--> 150\u001b[0;31m       \u001b[0;32mreturn\u001b[0m \u001b[0mfn\u001b[0m\u001b[0;34m(\u001b[0m\u001b[0;34m*\u001b[0m\u001b[0margs\u001b[0m\u001b[0;34m,\u001b[0m \u001b[0;34m**\u001b[0m\u001b[0mkwargs\u001b[0m\u001b[0;34m)\u001b[0m\u001b[0;34m\u001b[0m\u001b[0;34m\u001b[0m\u001b[0m\n\u001b[0m\u001b[1;32m    151\u001b[0m     \u001b[0;32mexcept\u001b[0m \u001b[0mException\u001b[0m \u001b[0;32mas\u001b[0m \u001b[0me\u001b[0m\u001b[0;34m:\u001b[0m\u001b[0;34m\u001b[0m\u001b[0;34m\u001b[0m\u001b[0m\n\u001b[1;32m    152\u001b[0m       \u001b[0mfiltered_tb\u001b[0m \u001b[0;34m=\u001b[0m \u001b[0m_process_traceback_frames\u001b[0m\u001b[0;34m(\u001b[0m\u001b[0me\u001b[0m\u001b[0;34m.\u001b[0m\u001b[0m__traceback__\u001b[0m\u001b[0;34m)\u001b[0m\u001b[0;34m\u001b[0m\u001b[0;34m\u001b[0m\u001b[0m\n",
            "\u001b[0;32m/usr/local/lib/python3.9/dist-packages/tensorflow/python/eager/polymorphic_function/polymorphic_function.py\u001b[0m in \u001b[0;36m__call__\u001b[0;34m(self, *args, **kwds)\u001b[0m\n\u001b[1;32m    892\u001b[0m \u001b[0;34m\u001b[0m\u001b[0m\n\u001b[1;32m    893\u001b[0m       \u001b[0;32mwith\u001b[0m \u001b[0mOptionalXlaContext\u001b[0m\u001b[0;34m(\u001b[0m\u001b[0mself\u001b[0m\u001b[0;34m.\u001b[0m\u001b[0m_jit_compile\u001b[0m\u001b[0;34m)\u001b[0m\u001b[0;34m:\u001b[0m\u001b[0;34m\u001b[0m\u001b[0;34m\u001b[0m\u001b[0m\n\u001b[0;32m--> 894\u001b[0;31m         \u001b[0mresult\u001b[0m \u001b[0;34m=\u001b[0m \u001b[0mself\u001b[0m\u001b[0;34m.\u001b[0m\u001b[0m_call\u001b[0m\u001b[0;34m(\u001b[0m\u001b[0;34m*\u001b[0m\u001b[0margs\u001b[0m\u001b[0;34m,\u001b[0m \u001b[0;34m**\u001b[0m\u001b[0mkwds\u001b[0m\u001b[0;34m)\u001b[0m\u001b[0;34m\u001b[0m\u001b[0;34m\u001b[0m\u001b[0m\n\u001b[0m\u001b[1;32m    895\u001b[0m \u001b[0;34m\u001b[0m\u001b[0m\n\u001b[1;32m    896\u001b[0m       \u001b[0mnew_tracing_count\u001b[0m \u001b[0;34m=\u001b[0m \u001b[0mself\u001b[0m\u001b[0;34m.\u001b[0m\u001b[0mexperimental_get_tracing_count\u001b[0m\u001b[0;34m(\u001b[0m\u001b[0;34m)\u001b[0m\u001b[0;34m\u001b[0m\u001b[0;34m\u001b[0m\u001b[0m\n",
            "\u001b[0;32m/usr/local/lib/python3.9/dist-packages/tensorflow/python/eager/polymorphic_function/polymorphic_function.py\u001b[0m in \u001b[0;36m_call\u001b[0;34m(self, *args, **kwds)\u001b[0m\n\u001b[1;32m    924\u001b[0m       \u001b[0;31m# In this case we have created variables on the first call, so we run the\u001b[0m\u001b[0;34m\u001b[0m\u001b[0;34m\u001b[0m\u001b[0m\n\u001b[1;32m    925\u001b[0m       \u001b[0;31m# defunned version which is guaranteed to never create variables.\u001b[0m\u001b[0;34m\u001b[0m\u001b[0;34m\u001b[0m\u001b[0m\n\u001b[0;32m--> 926\u001b[0;31m       \u001b[0;32mreturn\u001b[0m \u001b[0mself\u001b[0m\u001b[0;34m.\u001b[0m\u001b[0m_no_variable_creation_fn\u001b[0m\u001b[0;34m(\u001b[0m\u001b[0;34m*\u001b[0m\u001b[0margs\u001b[0m\u001b[0;34m,\u001b[0m \u001b[0;34m**\u001b[0m\u001b[0mkwds\u001b[0m\u001b[0;34m)\u001b[0m  \u001b[0;31m# pylint: disable=not-callable\u001b[0m\u001b[0;34m\u001b[0m\u001b[0;34m\u001b[0m\u001b[0m\n\u001b[0m\u001b[1;32m    927\u001b[0m     \u001b[0;32melif\u001b[0m \u001b[0mself\u001b[0m\u001b[0;34m.\u001b[0m\u001b[0m_variable_creation_fn\u001b[0m \u001b[0;32mis\u001b[0m \u001b[0;32mnot\u001b[0m \u001b[0;32mNone\u001b[0m\u001b[0;34m:\u001b[0m\u001b[0;34m\u001b[0m\u001b[0;34m\u001b[0m\u001b[0m\n\u001b[1;32m    928\u001b[0m       \u001b[0;31m# Release the lock early so that multiple threads can perform the call\u001b[0m\u001b[0;34m\u001b[0m\u001b[0;34m\u001b[0m\u001b[0m\n",
            "\u001b[0;32m/usr/local/lib/python3.9/dist-packages/tensorflow/python/eager/polymorphic_function/tracing_compiler.py\u001b[0m in \u001b[0;36m__call__\u001b[0;34m(self, *args, **kwargs)\u001b[0m\n\u001b[1;32m    141\u001b[0m       (concrete_function,\n\u001b[1;32m    142\u001b[0m        filtered_flat_args) = self._maybe_define_function(args, kwargs)\n\u001b[0;32m--> 143\u001b[0;31m     return concrete_function._call_flat(\n\u001b[0m\u001b[1;32m    144\u001b[0m         filtered_flat_args, captured_inputs=concrete_function.captured_inputs)  # pylint: disable=protected-access\n\u001b[1;32m    145\u001b[0m \u001b[0;34m\u001b[0m\u001b[0m\n",
            "\u001b[0;32m/usr/local/lib/python3.9/dist-packages/tensorflow/python/eager/polymorphic_function/monomorphic_function.py\u001b[0m in \u001b[0;36m_call_flat\u001b[0;34m(self, args, captured_inputs, cancellation_manager)\u001b[0m\n\u001b[1;32m   1755\u001b[0m         and executing_eagerly):\n\u001b[1;32m   1756\u001b[0m       \u001b[0;31m# No tape is watching; skip to running the function.\u001b[0m\u001b[0;34m\u001b[0m\u001b[0;34m\u001b[0m\u001b[0m\n\u001b[0;32m-> 1757\u001b[0;31m       return self._build_call_outputs(self._inference_function.call(\n\u001b[0m\u001b[1;32m   1758\u001b[0m           ctx, args, cancellation_manager=cancellation_manager))\n\u001b[1;32m   1759\u001b[0m     forward_backward = self._select_forward_and_backward_functions(\n",
            "\u001b[0;32m/usr/local/lib/python3.9/dist-packages/tensorflow/python/eager/polymorphic_function/monomorphic_function.py\u001b[0m in \u001b[0;36mcall\u001b[0;34m(self, ctx, args, cancellation_manager)\u001b[0m\n\u001b[1;32m    379\u001b[0m       \u001b[0;32mwith\u001b[0m \u001b[0m_InterpolateFunctionError\u001b[0m\u001b[0;34m(\u001b[0m\u001b[0mself\u001b[0m\u001b[0;34m)\u001b[0m\u001b[0;34m:\u001b[0m\u001b[0;34m\u001b[0m\u001b[0;34m\u001b[0m\u001b[0m\n\u001b[1;32m    380\u001b[0m         \u001b[0;32mif\u001b[0m \u001b[0mcancellation_manager\u001b[0m \u001b[0;32mis\u001b[0m \u001b[0;32mNone\u001b[0m\u001b[0;34m:\u001b[0m\u001b[0;34m\u001b[0m\u001b[0;34m\u001b[0m\u001b[0m\n\u001b[0;32m--> 381\u001b[0;31m           outputs = execute.execute(\n\u001b[0m\u001b[1;32m    382\u001b[0m               \u001b[0mstr\u001b[0m\u001b[0;34m(\u001b[0m\u001b[0mself\u001b[0m\u001b[0;34m.\u001b[0m\u001b[0msignature\u001b[0m\u001b[0;34m.\u001b[0m\u001b[0mname\u001b[0m\u001b[0;34m)\u001b[0m\u001b[0;34m,\u001b[0m\u001b[0;34m\u001b[0m\u001b[0;34m\u001b[0m\u001b[0m\n\u001b[1;32m    383\u001b[0m               \u001b[0mnum_outputs\u001b[0m\u001b[0;34m=\u001b[0m\u001b[0mself\u001b[0m\u001b[0;34m.\u001b[0m\u001b[0m_num_outputs\u001b[0m\u001b[0;34m,\u001b[0m\u001b[0;34m\u001b[0m\u001b[0;34m\u001b[0m\u001b[0m\n",
            "\u001b[0;32m/usr/local/lib/python3.9/dist-packages/tensorflow/python/eager/execute.py\u001b[0m in \u001b[0;36mquick_execute\u001b[0;34m(op_name, num_outputs, inputs, attrs, ctx, name)\u001b[0m\n\u001b[1;32m     50\u001b[0m   \u001b[0;32mtry\u001b[0m\u001b[0;34m:\u001b[0m\u001b[0;34m\u001b[0m\u001b[0;34m\u001b[0m\u001b[0m\n\u001b[1;32m     51\u001b[0m     \u001b[0mctx\u001b[0m\u001b[0;34m.\u001b[0m\u001b[0mensure_initialized\u001b[0m\u001b[0;34m(\u001b[0m\u001b[0;34m)\u001b[0m\u001b[0;34m\u001b[0m\u001b[0;34m\u001b[0m\u001b[0m\n\u001b[0;32m---> 52\u001b[0;31m     tensors = pywrap_tfe.TFE_Py_Execute(ctx._handle, device_name, op_name,\n\u001b[0m\u001b[1;32m     53\u001b[0m                                         inputs, attrs, num_outputs)\n\u001b[1;32m     54\u001b[0m   \u001b[0;32mexcept\u001b[0m \u001b[0mcore\u001b[0m\u001b[0;34m.\u001b[0m\u001b[0m_NotOkStatusException\u001b[0m \u001b[0;32mas\u001b[0m \u001b[0me\u001b[0m\u001b[0;34m:\u001b[0m\u001b[0;34m\u001b[0m\u001b[0;34m\u001b[0m\u001b[0m\n",
            "\u001b[0;31mKeyboardInterrupt\u001b[0m: "
          ]
        }
      ]
    },
    {
      "cell_type": "markdown",
      "source": [
        "10 models tested on 10 splits, averaging 83% accuracy with 1.9% deviation. Ensembles of 1-10 models on another dataset estimated 82% accuracy, but it's likely too high. Accuracy varies among models. Graph shows 1-10 member ensemble performance. 4-to-8 member ensembles more accurate than individual runs, but no superior models identified. Ensembles outperform random models with fewer members, and more repetitions enhance performance steadiness."
      ],
      "metadata": {
        "id": "NX4mXR2P-5rb"
      }
    },
    {
      "cell_type": "code",
      "source": [
        "X,y = df_test_classification.loc[:,df_test_classification.columns!= 'chocolate'], df_test_classification['chocolate']\n",
        "X = X.values\n",
        "print('Train', X.shape, y.shape)\n",
        "\n",
        "length = int(len(X)*0.8)\n",
        "X, newX = X[:length, :], X[length:, :]\n",
        "y, newy = y[:length], y[length:]\n",
        "\n",
        "# multiple train-test splits\n",
        "n_splits = 5\n",
        "scores, members = list(), list()\n",
        "for _ in range(n_splits):\n",
        "\t# split data\n",
        "\tX_train, X_test, y_train, y_test = train_test_split(X, y, test_size=0.50)\n",
        "\t# evaluate model\n",
        "\tmodel, test_acc = evaluate_model(X_train, y_train, X_test, y_test)\n",
        "\tprint('>%.3f' % test_acc)\n",
        "\tscores.append(test_acc)\n",
        "\tmembers.append(model)\n",
        "# summarize expected performance\n",
        "print('Estimated Accuracy %.3f (%.3f)' % (mean(scores), std(scores)))\n",
        "# evaluate different numbers of ensembles on hold out set\n",
        "single_scores, ensemble_scores = list(), list()\n",
        "for i in range(1, n_splits+1):\n",
        "\tensemble_score = evaluate_n_members(members, i, newX, newy)\n",
        "\tnewy_enc = to_categorical(newy)\n",
        "\t_, single_score = members[i-1].evaluate(newX, newy_enc, verbose=0)\n",
        "\tprint('> %d: single=%.3f, ensemble=%.3f' % (i, single_score, ensemble_score))\n",
        "\tensemble_scores.append(ensemble_score)\n",
        "\tsingle_scores.append(single_score)\n",
        "# plot score vs number of ensemble members\n",
        "print('Accuracy %.3f (%.3f)' % (mean(single_scores), std(single_scores)))\n",
        "x_axis = [i for i in range(1, n_splits+1)]\n",
        "pyplot.plot(x_axis, single_scores, marker='o', linestyle='None')\n",
        "pyplot.plot(x_axis, ensemble_scores, marker='o')\n",
        "pyplot.show()"
      ],
      "metadata": {
        "colab": {
          "base_uri": "https://localhost:8080/",
          "height": 979
        },
        "id": "N4G5RE0HOfWt",
        "outputId": "49eb3fa9-59d9-4c84-8ade-2ff165a335dd"
      },
      "execution_count": 61,
      "outputs": [
        {
          "output_type": "stream",
          "name": "stdout",
          "text": [
            "Train (85, 11) (85,)\n",
            ">0.824\n",
            ">0.735\n",
            ">0.676\n",
            ">0.794\n",
            ">0.882\n",
            "Estimated Accuracy 0.782 (0.071)\n",
            "1/1 [==============================] - 0s 50ms/step\n",
            "> 1: single=0.529, ensemble=0.529\n",
            "1/1 [==============================] - 0s 23ms/step\n",
            "1/1 [==============================] - 0s 54ms/step\n",
            "> 2: single=0.765, ensemble=0.706\n",
            "1/1 [==============================] - 0s 28ms/step\n",
            "1/1 [==============================] - 0s 21ms/step\n"
          ]
        },
        {
          "output_type": "stream",
          "name": "stderr",
          "text": [
            "WARNING:tensorflow:5 out of the last 17 calls to <function Model.make_predict_function.<locals>.predict_function at 0x7efd8069aee0> triggered tf.function retracing. Tracing is expensive and the excessive number of tracings could be due to (1) creating @tf.function repeatedly in a loop, (2) passing tensors with different shapes, (3) passing Python objects instead of tensors. For (1), please define your @tf.function outside of the loop. For (2), @tf.function has reduce_retracing=True option that can avoid unnecessary retracing. For (3), please refer to https://www.tensorflow.org/guide/function#controlling_retracing and https://www.tensorflow.org/api_docs/python/tf/function for  more details.\n"
          ]
        },
        {
          "output_type": "stream",
          "name": "stdout",
          "text": [
            "1/1 [==============================] - 0s 52ms/step\n",
            "> 3: single=0.765, ensemble=0.706\n",
            "1/1 [==============================] - 0s 21ms/step\n",
            "1/1 [==============================] - 0s 38ms/step\n",
            "1/1 [==============================] - 0s 21ms/step\n",
            "1/1 [==============================] - 0s 50ms/step\n",
            "> 4: single=0.706, ensemble=0.765\n",
            "1/1 [==============================] - 0s 26ms/step\n",
            "1/1 [==============================] - 0s 30ms/step\n",
            "1/1 [==============================] - 0s 24ms/step\n",
            "1/1 [==============================] - 0s 22ms/step\n",
            "1/1 [==============================] - 0s 66ms/step\n",
            "> 5: single=0.647, ensemble=0.647\n",
            "Accuracy 0.682 (0.088)\n"
          ]
        },
        {
          "output_type": "display_data",
          "data": {
            "text/plain": [
              "<Figure size 640x480 with 1 Axes>"
            ],
            "image/png": "[encoded data removed]"
          },
          "metadata": {}
        }
      ]
    },
    {
      "cell_type": "markdown",
      "source": [
        "# **Cross-Validation Ensemble**\n",
        "\n",
        "Use k-fold cross-validation to reduce bias in performance estimation. Random splits may overestimate, so k parameter groups samples. K=10 reduces bias in Scores. Cross-validation chooses the best neural network models or combines them for better performance. Scikit-learn's KFold provides customizable data splits with shuffling and seed. Indexes generate train and test sets. 10 cross-validated models evaluate ensembles with 1-10 members for accuracy. Avg fold scores indicate model performance."
      ],
      "metadata": {
        "id": "0w5GDg0l_Btk"
      }
    },
    {
      "cell_type": "code",
      "source": [
        "# generate 2d classification dataset\n",
        "dataX, datay = make_blobs(n_samples=55000, centers=3, n_features=2, cluster_std=2, random_state=2)\n",
        "X, newX = dataX[:5000, :], dataX[5000:, :]\n",
        "y, newy = datay[:5000], datay[5000:]\n",
        "# prepare the k-fold cross-validation configuration\n",
        "n_folds = 10\n",
        "kfold = KFold(n_folds)\n",
        "# cross validation estimation of performance\n",
        "scores, members = list(), list()\n",
        "for train_ix, test_ix in kfold.split(X):\n",
        "\t# select samples\n",
        "\ttrainX, trainy = X[train_ix], y[train_ix]\n",
        "\ttestX, testy = X[test_ix], y[test_ix]\n",
        "\t# evaluate model\n",
        "\tmodel, test_acc = evaluate_model(trainX, trainy, testX, testy)\n",
        "\tprint('>%.3f' % test_acc)\n",
        "\tscores.append(test_acc)\n",
        "\tmembers.append(model)\n",
        "# summarize expected performance\n",
        "print('Estimated Accuracy %.3f (%.3f)' % (mean(scores), std(scores)))\n",
        "# evaluate different numbers of ensembles on hold out set\n",
        "single_scores, ensemble_scores = list(), list()\n",
        "for i in range(1, n_folds+1):\n",
        "\tensemble_score = evaluate_n_members(members, i, newX, newy)\n",
        "\tnewy_enc = to_categorical(newy)\n",
        "\t_, single_score = members[i-1].evaluate(newX, newy_enc, verbose=0)\n",
        "\tprint('> %d: single=%.3f, ensemble=%.3f' % (i, single_score, ensemble_score))\n",
        "\tensemble_scores.append(ensemble_score)\n",
        "\tsingle_scores.append(single_score)\n",
        "# plot score vs number of ensemble members\n",
        "print('Accuracy %.3f (%.3f)' % (mean(single_scores), std(single_scores)))\n",
        "x_axis = [i for i in range(1, n_folds+1)]\n",
        "pyplot.plot(x_axis, single_scores, marker='o', linestyle='None')\n",
        "pyplot.plot(x_axis, ensemble_scores, marker='o')\n",
        "pyplot.show()"
      ],
      "metadata": {
        "colab": {
          "base_uri": "https://localhost:8080/",
          "height": 1000
        },
        "id": "6pOFRH2S_I2w",
        "outputId": "ce608965-5316-4619-9269-b162a3d410bb"
      },
      "execution_count": 62,
      "outputs": [
        {
          "output_type": "stream",
          "name": "stdout",
          "text": [
            ">0.816\n",
            ">0.852\n",
            ">0.854\n",
            ">0.820\n",
            ">0.818\n",
            ">0.816\n",
            ">0.810\n",
            ">0.830\n",
            ">0.816\n",
            ">0.836\n",
            "Estimated Accuracy 0.827 (0.015)\n",
            "1563/1563 [==============================] - 3s 2ms/step\n",
            "> 1: single=0.820, ensemble=0.820\n",
            "1563/1563 [==============================] - 2s 1ms/step\n",
            "1563/1563 [==============================] - 2s 1ms/step\n",
            "> 2: single=0.819, ensemble=0.820\n",
            "1563/1563 [==============================] - 2s 1ms/step\n",
            "1563/1563 [==============================] - 2s 2ms/step\n",
            "1563/1563 [==============================] - 2s 1ms/step\n",
            "> 3: single=0.820, ensemble=0.820\n",
            "1563/1563 [==============================] - 2s 1ms/step\n",
            "1563/1563 [==============================] - 2s 1ms/step\n",
            "1563/1563 [==============================] - 2s 1ms/step\n",
            "1563/1563 [==============================] - 2s 1ms/step\n",
            "> 4: single=0.819, ensemble=0.820\n",
            "1563/1563 [==============================] - 2s 1ms/step\n",
            "1563/1563 [==============================] - 2s 1ms/step\n",
            "1563/1563 [==============================] - 2s 1ms/step\n",
            "1563/1563 [==============================] - 3s 2ms/step\n",
            "1563/1563 [==============================] - 3s 2ms/step\n",
            "> 5: single=0.820, ensemble=0.821\n",
            "1563/1563 [==============================] - 2s 1ms/step\n",
            "1563/1563 [==============================] - 3s 2ms/step\n",
            "1563/1563 [==============================] - 2s 1ms/step\n",
            "1563/1563 [==============================] - 2s 1ms/step\n",
            "1563/1563 [==============================] - 2s 1ms/step\n",
            "1563/1563 [==============================] - 3s 2ms/step\n",
            "> 6: single=0.820, ensemble=0.821\n",
            "1563/1563 [==============================] - 2s 1ms/step\n",
            "1563/1563 [==============================] - 3s 2ms/step\n",
            "1563/1563 [==============================] - 2s 1ms/step\n",
            "1563/1563 [==============================] - 2s 1ms/step\n",
            "1563/1563 [==============================] - 2s 1ms/step\n",
            "1563/1563 [==============================] - 2s 2ms/step\n",
            "1563/1563 [==============================] - 2s 1ms/step\n",
            "> 7: single=0.820, ensemble=0.821\n",
            "1563/1563 [==============================] - 2s 2ms/step\n",
            "1563/1563 [==============================] - 2s 1ms/step\n",
            "1563/1563 [==============================] - 2s 1ms/step\n",
            "1563/1563 [==============================] - 3s 2ms/step\n",
            "1563/1563 [==============================] - 2s 1ms/step\n",
            "1563/1563 [==============================] - 2s 1ms/step\n",
            "1563/1563 [==============================] - 3s 2ms/step\n",
            "1563/1563 [==============================] - 2s 1ms/step\n",
            "> 8: single=0.820, ensemble=0.821\n",
            "1563/1563 [==============================] - 2s 1ms/step\n",
            "1563/1563 [==============================] - 2s 2ms/step\n",
            "1563/1563 [==============================] - 3s 2ms/step\n",
            "1563/1563 [==============================] - 2s 1ms/step\n",
            "1563/1563 [==============================] - 2s 1ms/step\n",
            "1563/1563 [==============================] - 2s 1ms/step\n",
            "1563/1563 [==============================] - 3s 2ms/step\n",
            "1563/1563 [==============================] - 2s 1ms/step\n",
            "1563/1563 [==============================] - 2s 1ms/step\n",
            "> 9: single=0.820, ensemble=0.821\n",
            "1563/1563 [==============================] - 2s 1ms/step\n",
            "1563/1563 [==============================] - 2s 1ms/step\n",
            "1563/1563 [==============================] - 2s 1ms/step\n",
            "1563/1563 [==============================] - 2s 1ms/step\n",
            "1563/1563 [==============================] - 2s 1ms/step\n",
            "1563/1563 [==============================] - 3s 2ms/step\n",
            "1563/1563 [==============================] - 2s 1ms/step\n",
            "1563/1563 [==============================] - 2s 1ms/step\n",
            "1563/1563 [==============================] - 3s 2ms/step\n",
            "1563/1563 [==============================] - 2s 1ms/step\n",
            "> 10: single=0.820, ensemble=0.821\n",
            "Accuracy 0.820 (0.000)\n"
          ]
        },
        {
          "output_type": "display_data",
          "data": {
            "text/plain": [
              "<Figure size 640x480 with 1 Axes>"
            ],
            "image/png": "[encoded data removed]"
          },
          "metadata": {}
        }
      ]
    },
    {
      "cell_type": "markdown",
      "source": [
        "Model performance shown for each fold in cross-validation, averaging 82%, less optimistic than random-splits. Saved models evaluated on holdout set with 82% average score. Graph compares model accuracy and ensemble size, with similar performance. More members improve accuracy, but there's a point of diminishing returns. Using four or more models in an ensemble is better. All models' default strategy is effective."
      ],
      "metadata": {
        "id": "6CilcrBJ_Lgb"
      }
    },
    {
      "cell_type": "code",
      "source": [
        "df_test_resampled = df_test_classification.sample(1000,replace=True).reset_index(drop=True)\n",
        "X,y = df_test_resampled.loc[:,df_test_resampled.columns!= 'chocolate'], df_test_resampled['chocolate']\n",
        "X = X.values\n",
        "print('Train', X.shape, y.shape)\n",
        "\n",
        "length = int(len(X)*0.8)\n",
        "X, newX = X[:length, :], X[length:, :]\n",
        "y, newy = y[:length], y[length:]\n",
        "\n",
        "# multiple train-test splits\n",
        "n_splits = 10\n",
        "kfold = KFold(n_folds)\n",
        "# cross validation estimation of performance\n",
        "scores, members = list(), list()\n",
        "for train_ix, test_ix in kfold.split(X):\n",
        "\t# select samples\n",
        "\ttrainX, trainy = X[train_ix], y[train_ix]\n",
        "\ttestX, testy = X[test_ix], y[test_ix]\n",
        "\t# evaluate model\n",
        "\tmodel, test_acc = evaluate_model(trainX, trainy, testX, testy)\n",
        "\tprint('>%.3f' % test_acc)\n",
        "\tscores.append(test_acc)\n",
        "\tmembers.append(model)\n",
        "# summarize expected performance\n",
        "print('Estimated Accuracy %.3f (%.3f)' % (mean(scores), std(scores)))\n",
        "# evaluate different numbers of ensembles on hold out set\n",
        "single_scores, ensemble_scores = list(), list()\n",
        "for i in range(1, n_folds+1):\n",
        "\tensemble_score = evaluate_n_members(members, i, newX, newy)\n",
        "\tnewy_enc = to_categorical(newy)\n",
        "\t_, single_score = members[i-1].evaluate(newX, newy_enc, verbose=0)\n",
        "\tprint('> %d: single=%.3f, ensemble=%.3f' % (i, single_score, ensemble_score))\n",
        "\tensemble_scores.append(ensemble_score)\n",
        "\tsingle_scores.append(single_score)\n",
        "# plot score vs number of ensemble members\n",
        "print('Accuracy %.3f (%.3f)' % (mean(single_scores), std(single_scores)))\n",
        "x_axis = [i for i in range(1, n_folds+1)]\n",
        "pyplot.plot(x_axis, single_scores, marker='o', linestyle='None')\n",
        "pyplot.plot(x_axis, ensemble_scores, marker='o')\n",
        "pyplot.show()"
      ],
      "metadata": {
        "colab": {
          "base_uri": "https://localhost:8080/",
          "height": 1000
        },
        "id": "ovJ-cVyVUn4O",
        "outputId": "eb94137d-1077-441b-c882-5eae20db64eb"
      },
      "execution_count": 66,
      "outputs": [
        {
          "output_type": "stream",
          "name": "stdout",
          "text": [
            "Train (1000, 11) (1000,)\n",
            ">0.925\n",
            ">0.938\n",
            ">0.950\n",
            ">0.887\n",
            ">0.887\n",
            ">0.887\n",
            ">0.875\n",
            ">0.837\n",
            ">0.913\n",
            ">0.950\n",
            "Estimated Accuracy 0.905 (0.035)\n",
            "7/7 [==============================] - 0s 3ms/step\n",
            "> 1: single=0.915, ensemble=0.915\n",
            "7/7 [==============================] - 0s 2ms/step\n",
            "7/7 [==============================] - 0s 2ms/step\n",
            "> 2: single=0.915, ensemble=0.915\n",
            "7/7 [==============================] - 0s 2ms/step\n",
            "7/7 [==============================] - 0s 2ms/step\n",
            "7/7 [==============================] - 0s 2ms/step\n",
            "> 3: single=0.890, ensemble=0.915\n",
            "7/7 [==============================] - 0s 2ms/step\n",
            "7/7 [==============================] - 0s 2ms/step\n",
            "7/7 [==============================] - 0s 2ms/step\n",
            "7/7 [==============================] - 0s 2ms/step\n",
            "> 4: single=0.890, ensemble=0.915\n",
            "7/7 [==============================] - 0s 3ms/step\n",
            "7/7 [==============================] - 0s 2ms/step\n",
            "7/7 [==============================] - 0s 2ms/step\n",
            "7/7 [==============================] - 0s 2ms/step\n",
            "7/7 [==============================] - 0s 2ms/step\n",
            "> 5: single=0.870, ensemble=0.890\n",
            "7/7 [==============================] - 0s 2ms/step\n",
            "7/7 [==============================] - 0s 2ms/step\n",
            "7/7 [==============================] - 0s 2ms/step\n",
            "7/7 [==============================] - 0s 2ms/step\n",
            "7/7 [==============================] - 0s 3ms/step\n",
            "7/7 [==============================] - 0s 2ms/step\n",
            "> 6: single=0.875, ensemble=0.890\n",
            "7/7 [==============================] - 0s 2ms/step\n",
            "7/7 [==============================] - 0s 2ms/step\n",
            "7/7 [==============================] - 0s 2ms/step\n",
            "7/7 [==============================] - 0s 2ms/step\n",
            "7/7 [==============================] - 0s 2ms/step\n",
            "7/7 [==============================] - 0s 2ms/step\n",
            "7/7 [==============================] - 0s 2ms/step\n",
            "> 7: single=0.915, ensemble=0.890\n",
            "7/7 [==============================] - 0s 4ms/step\n",
            "7/7 [==============================] - 0s 2ms/step\n",
            "7/7 [==============================] - 0s 2ms/step\n",
            "7/7 [==============================] - 0s 2ms/step\n",
            "7/7 [==============================] - 0s 2ms/step\n",
            "7/7 [==============================] - 0s 2ms/step\n",
            "7/7 [==============================] - 0s 2ms/step\n",
            "7/7 [==============================] - 0s 2ms/step\n",
            "> 8: single=0.890, ensemble=0.890\n",
            "7/7 [==============================] - 0s 3ms/step\n",
            "7/7 [==============================] - 0s 2ms/step\n",
            "7/7 [==============================] - 0s 2ms/step\n",
            "7/7 [==============================] - 0s 2ms/step\n",
            "7/7 [==============================] - 0s 2ms/step\n",
            "7/7 [==============================] - 0s 3ms/step\n",
            "7/7 [==============================] - 0s 2ms/step\n",
            "7/7 [==============================] - 0s 2ms/step\n",
            "7/7 [==============================] - 0s 2ms/step\n",
            "> 9: single=0.880, ensemble=0.890\n",
            "7/7 [==============================] - 0s 2ms/step\n",
            "7/7 [==============================] - 0s 2ms/step\n",
            "7/7 [==============================] - 0s 3ms/step\n",
            "7/7 [==============================] - 0s 3ms/step\n",
            "7/7 [==============================] - 0s 2ms/step\n",
            "7/7 [==============================] - 0s 5ms/step\n",
            "7/7 [==============================] - 0s 3ms/step\n",
            "7/7 [==============================] - 0s 3ms/step\n",
            "7/7 [==============================] - 0s 3ms/step\n",
            "7/7 [==============================] - 0s 2ms/step\n",
            "> 10: single=0.875, ensemble=0.890\n",
            "Accuracy 0.892 (0.017)\n"
          ]
        },
        {
          "output_type": "display_data",
          "data": {
            "text/plain": [
              "<Figure size 640x480 with 1 Axes>"
            ],
            "image/png": "[encoded data removed]"
          },
          "metadata": {}
        }
      ]
    },
    {
      "cell_type": "markdown",
      "source": [
        "# **Bagging Ensemble**\n",
        "Bootstrap method improves ensemble learning by using small data samples and repeated inclusion and sampling with replacement to estimate neural network model performance. Ensemble learning equals k-fold cross-validation with bias sampling. Bagging with resample() is a preferred bootstrap method. Get 4.5k data by selecting X and y rows, use bagging with unpruned trees. Keep MLP despite overfit NNs, limit reached with 10. Bootstrap MLP ensemble."
      ],
      "metadata": {
        "id": "KhfhoVA6_RV7"
      }
    },
    {
      "cell_type": "code",
      "source": [
        "# generate 2d classification dataset\n",
        "dataX, datay = make_blobs(n_samples=55000, centers=3, n_features=2, cluster_std=2, random_state=2)\n",
        "X, newX = dataX[:5000, :], dataX[5000:, :]\n",
        "y, newy = datay[:5000], datay[5000:]\n",
        "# multiple train-test splits\n",
        "n_splits = 10\n",
        "scores, members = list(), list()\n",
        "for _ in range(n_splits):\n",
        "\t# select indexes\n",
        "\tix = [i for i in range(len(X))]\n",
        "\ttrain_ix = resample(ix, replace=True, n_samples=4500)\n",
        "\ttest_ix = [x for x in ix if x not in train_ix]\n",
        "\t# select data\n",
        "\ttrainX, trainy = X[train_ix], y[train_ix]\n",
        "\ttestX, testy = X[test_ix], y[test_ix]\n",
        "\t# evaluate model\n",
        "\tmodel, test_acc = evaluate_model(trainX, trainy, testX, testy)\n",
        "\tprint('>%.3f' % test_acc)\n",
        "\tscores.append(test_acc)\n",
        "\tmembers.append(model)\n",
        "# summarize expected performance\n",
        "print('Estimated Accuracy %.3f (%.3f)' % (mean(scores), std(scores)))\n",
        "# evaluate different numbers of ensembles on hold out set\n",
        "single_scores, ensemble_scores = list(), list()\n",
        "for i in range(1, n_splits+1):\n",
        "\tensemble_score = evaluate_n_members(members, i, newX, newy)\n",
        "\tnewy_enc = to_categorical(newy)\n",
        "\t_, single_score = members[i-1].evaluate(newX, newy_enc, verbose=0)\n",
        "\tprint('> %d: single=%.3f, ensemble=%.3f' % (i, single_score, ensemble_score))\n",
        "\tensemble_scores.append(ensemble_score)\n",
        "\tsingle_scores.append(single_score)\n",
        "# plot score vs number of ensemble members\n",
        "print('Accuracy %.3f (%.3f)' % (mean(single_scores), std(single_scores)))\n",
        "x_axis = [i for i in range(1, n_splits+1)]\n",
        "pyplot.plot(x_axis, single_scores, marker='o', linestyle='None')\n",
        "pyplot.plot(x_axis, ensemble_scores, marker='o')\n",
        "pyplot.show()"
      ],
      "metadata": {
        "colab": {
          "base_uri": "https://localhost:8080/",
          "height": 1000
        },
        "id": "-qMCXjRX_XYP",
        "outputId": "d3cd2f91-3ffd-4109-8dc9-6650264a27cd"
      },
      "execution_count": 67,
      "outputs": [
        {
          "output_type": "stream",
          "name": "stdout",
          "text": [
            ">0.823\n",
            ">0.818\n",
            ">0.820\n",
            ">0.830\n",
            ">0.821\n",
            ">0.824\n",
            ">0.845\n",
            ">0.822\n",
            ">0.829\n",
            ">0.827\n",
            "Estimated Accuracy 0.826 (0.007)\n",
            "1563/1563 [==============================] - 3s 2ms/step\n",
            "> 1: single=0.820, ensemble=0.820\n",
            "1563/1563 [==============================] - 2s 1ms/step\n",
            "1563/1563 [==============================] - 2s 1ms/step\n",
            "> 2: single=0.819, ensemble=0.820\n",
            "1563/1563 [==============================] - 2s 1ms/step\n",
            "1563/1563 [==============================] - 2s 1ms/step\n",
            "1563/1563 [==============================] - 3s 2ms/step\n",
            "> 3: single=0.818, ensemble=0.821\n",
            "1563/1563 [==============================] - 2s 1ms/step\n",
            "1563/1563 [==============================] - 2s 2ms/step\n",
            "1563/1563 [==============================] - 2s 1ms/step\n",
            "1563/1563 [==============================] - 2s 1ms/step\n",
            "> 4: single=0.819, ensemble=0.820\n",
            "1563/1563 [==============================] - 3s 2ms/step\n",
            "1563/1563 [==============================] - 2s 1ms/step\n",
            "1563/1563 [==============================] - 2s 1ms/step\n",
            "1563/1563 [==============================] - 3s 2ms/step\n",
            "1563/1563 [==============================] - 2s 1ms/step\n",
            "> 5: single=0.819, ensemble=0.820\n",
            "1563/1563 [==============================] - 2s 1ms/step\n",
            "1563/1563 [==============================] - 2s 2ms/step\n",
            "1563/1563 [==============================] - 2s 1ms/step\n",
            "1563/1563 [==============================] - 2s 1ms/step\n",
            "1563/1563 [==============================] - 5s 3ms/step\n",
            "1563/1563 [==============================] - 2s 1ms/step\n",
            "> 6: single=0.820, ensemble=0.820\n",
            "1563/1563 [==============================] - 2s 1ms/step\n",
            "1563/1563 [==============================] - 2s 1ms/step\n",
            "1563/1563 [==============================] - 3s 2ms/step\n",
            "1563/1563 [==============================] - 2s 1ms/step\n",
            "1563/1563 [==============================] - 2s 1ms/step\n",
            "1563/1563 [==============================] - 2s 1ms/step\n",
            "1563/1563 [==============================] - 3s 2ms/step\n",
            "> 7: single=0.820, ensemble=0.820\n",
            "1563/1563 [==============================] - 2s 1ms/step\n",
            "1563/1563 [==============================] - 2s 1ms/step\n",
            "1563/1563 [==============================] - 2s 1ms/step\n",
            "1563/1563 [==============================] - 2s 1ms/step\n",
            "1563/1563 [==============================] - 2s 2ms/step\n",
            "1563/1563 [==============================] - 3s 2ms/step\n",
            "1563/1563 [==============================] - 2s 1ms/step\n",
            "1563/1563 [==============================] - 2s 1ms/step\n",
            "> 8: single=0.817, ensemble=0.821\n",
            "1563/1563 [==============================] - 3s 2ms/step\n",
            "1563/1563 [==============================] - 2s 2ms/step\n",
            "1563/1563 [==============================] - 2s 1ms/step\n",
            "1563/1563 [==============================] - 3s 2ms/step\n",
            "1563/1563 [==============================] - 2s 1ms/step\n",
            "1563/1563 [==============================] - 2s 1ms/step\n",
            "1563/1563 [==============================] - 3s 2ms/step\n",
            "1563/1563 [==============================] - 2s 1ms/step\n",
            "1563/1563 [==============================] - 2s 1ms/step\n",
            "> 9: single=0.820, ensemble=0.820\n",
            "1563/1563 [==============================] - 3s 2ms/step\n",
            "1563/1563 [==============================] - 2s 1ms/step\n",
            "1563/1563 [==============================] - 2s 1ms/step\n",
            "1563/1563 [==============================] - 3s 2ms/step\n",
            "1563/1563 [==============================] - 2s 1ms/step\n",
            "1563/1563 [==============================] - 2s 1ms/step\n",
            "1563/1563 [==============================] - 2s 1ms/step\n",
            "1563/1563 [==============================] - 3s 2ms/step\n",
            "1563/1563 [==============================] - 2s 1ms/step\n",
            "1563/1563 [==============================] - 2s 1ms/step\n",
            "> 10: single=0.820, ensemble=0.821\n",
            "Accuracy 0.819 (0.001)\n"
          ]
        },
        {
          "output_type": "display_data",
          "data": {
            "text/plain": [
              "<Figure size 640x480 with 1 Axes>"
            ],
            "image/png": "[encoded data removed]"
          },
          "metadata": {}
        }
      ]
    },
    {
      "cell_type": "markdown",
      "source": [
        "Model's unused performance displayed during run. Similar to k-fold cross-validation, less optimistic than random splits. Bootstrap sampling worsens performance on large datasets. Bagged ensembles perform better than individual models with 4+ members."
      ],
      "metadata": {
        "id": "dqYc7ok2_ZIk"
      }
    },
    {
      "cell_type": "code",
      "source": [
        "df_test_resampled = df_test_classification.sample(10000,replace=True).reset_index(drop=True)\n",
        "X,y = df_test_resampled.loc[:,df_test_resampled.columns!= 'chocolate'], df_test_resampled['chocolate']\n",
        "X = X.values\n",
        "print('Train', X.shape, y.shape)\n",
        "\n",
        "length = int(len(X)*0.8)\n",
        "X, newX = X[:length, :], X[length:, :]\n",
        "y, newy = y[:length], y[length:]\n",
        "\n",
        "# multiple train-test splits\n",
        "n_splits = 10\n",
        "scores, members = list(), list()\n",
        "for _ in range(n_splits):\n",
        "\t# select indexes\n",
        "\tix = [i for i in range(len(X))]\n",
        "\ttrain_ix = resample(ix, replace=True, n_samples=4500)\n",
        "\ttest_ix = [x for x in ix if x not in train_ix]\n",
        "\t# select data\n",
        "\ttrainX, trainy = X[train_ix], y[train_ix]\n",
        "\ttestX, testy = X[test_ix], y[test_ix]\n",
        "\t# evaluate model\n",
        "\tmodel, test_acc = evaluate_model(trainX, trainy, testX, testy)\n",
        "\tprint('>%.3f' % test_acc)\n",
        "\tscores.append(test_acc)\n",
        "\tmembers.append(model)\n",
        "# summarize expected performance\n",
        "print('Estimated Accuracy %.3f (%.3f)' % (mean(scores), std(scores)))\n",
        "# evaluate different numbers of ensembles on hold out set\n",
        "single_scores, ensemble_scores = list(), list()\n",
        "for i in range(1, n_splits+1):\n",
        "\tensemble_score = evaluate_n_members(members, i, newX, newy)\n",
        "\tnewy_enc = to_categorical(newy)\n",
        "\t_, single_score = members[i-1].evaluate(newX, newy_enc, verbose=0)\n",
        "\tprint('> %d: single=%.3f, ensemble=%.3f' % (i, single_score, ensemble_score))\n",
        "\tensemble_scores.append(ensemble_score)\n",
        "\tsingle_scores.append(single_score)\n",
        "# plot score vs number of ensemble members\n",
        "print('Accuracy %.3f (%.3f)' % (mean(single_scores), std(single_scores)))\n",
        "x_axis = [i for i in range(1, n_splits+1)]\n",
        "pyplot.plot(x_axis, single_scores, marker='o', linestyle='None')\n",
        "pyplot.plot(x_axis, ensemble_scores, marker='o')\n",
        "pyplot.show()"
      ],
      "metadata": {
        "colab": {
          "base_uri": "https://localhost:8080/",
          "height": 1000
        },
        "id": "Et1V699FWqcR",
        "outputId": "87e56fa9-4800-4e7a-b3ef-857e3a693370"
      },
      "execution_count": 69,
      "outputs": [
        {
          "output_type": "stream",
          "name": "stdout",
          "text": [
            "Train (10000, 11) (10000,)\n",
            ">0.941\n",
            ">0.957\n",
            ">0.990\n",
            ">0.940\n",
            ">0.952\n",
            ">0.951\n",
            ">0.924\n",
            ">0.976\n",
            ">0.957\n",
            ">0.989\n",
            "Estimated Accuracy 0.958 (0.021)\n",
            "63/63 [==============================] - 0s 2ms/step\n",
            "> 1: single=0.939, ensemble=0.939\n",
            "63/63 [==============================] - 0s 2ms/step\n",
            "63/63 [==============================] - 0s 1ms/step\n",
            "> 2: single=0.947, ensemble=0.959\n",
            "63/63 [==============================] - 0s 2ms/step\n",
            "63/63 [==============================] - 0s 2ms/step\n",
            "63/63 [==============================] - 0s 2ms/step\n",
            "> 3: single=0.989, ensemble=0.959\n",
            "63/63 [==============================] - 0s 3ms/step\n",
            "63/63 [==============================] - 0s 2ms/step\n",
            "63/63 [==============================] - 0s 2ms/step\n",
            "63/63 [==============================] - 0s 2ms/step\n",
            "> 4: single=0.934, ensemble=0.959\n",
            "63/63 [==============================] - 0s 2ms/step\n",
            "63/63 [==============================] - 0s 1ms/step\n",
            "63/63 [==============================] - 0s 1ms/step\n",
            "63/63 [==============================] - 0s 1ms/step\n",
            "63/63 [==============================] - 0s 1ms/step\n",
            "> 5: single=0.947, ensemble=0.959\n",
            "63/63 [==============================] - 0s 2ms/step\n",
            "63/63 [==============================] - 0s 1ms/step\n",
            "63/63 [==============================] - 0s 1ms/step\n",
            "63/63 [==============================] - 0s 2ms/step\n",
            "63/63 [==============================] - 0s 2ms/step\n",
            "63/63 [==============================] - 0s 2ms/step\n",
            "> 6: single=0.947, ensemble=0.959\n",
            "63/63 [==============================] - 0s 1ms/step\n",
            "63/63 [==============================] - 0s 2ms/step\n",
            "63/63 [==============================] - 0s 2ms/step\n",
            "63/63 [==============================] - 0s 1ms/step\n",
            "63/63 [==============================] - 0s 2ms/step\n",
            "63/63 [==============================] - 0s 2ms/step\n",
            "63/63 [==============================] - 0s 2ms/step\n",
            "> 7: single=0.915, ensemble=0.959\n",
            "63/63 [==============================] - 0s 2ms/step\n",
            "63/63 [==============================] - 0s 1ms/step\n",
            "63/63 [==============================] - 0s 2ms/step\n",
            "63/63 [==============================] - 0s 1ms/step\n",
            "63/63 [==============================] - 0s 1ms/step\n",
            "63/63 [==============================] - 0s 1ms/step\n",
            "63/63 [==============================] - 0s 1ms/step\n",
            "63/63 [==============================] - 0s 2ms/step\n",
            "> 8: single=0.974, ensemble=0.959\n",
            "63/63 [==============================] - 0s 1ms/step\n",
            "63/63 [==============================] - 0s 1ms/step\n",
            "63/63 [==============================] - 0s 1ms/step\n",
            "63/63 [==============================] - 0s 1ms/step\n",
            "63/63 [==============================] - 0s 1ms/step\n",
            "63/63 [==============================] - 0s 1ms/step\n",
            "63/63 [==============================] - 0s 1ms/step\n",
            "63/63 [==============================] - 0s 1ms/step\n",
            "63/63 [==============================] - 0s 1ms/step\n",
            "> 9: single=0.947, ensemble=0.959\n",
            "63/63 [==============================] - 0s 1ms/step\n",
            "63/63 [==============================] - 0s 1ms/step\n",
            "63/63 [==============================] - 0s 1ms/step\n",
            "63/63 [==============================] - 0s 1ms/step\n",
            "63/63 [==============================] - 0s 1ms/step\n",
            "63/63 [==============================] - 0s 1ms/step\n",
            "63/63 [==============================] - 0s 1ms/step\n",
            "63/63 [==============================] - 0s 1ms/step\n",
            "63/63 [==============================] - 0s 2ms/step\n",
            "63/63 [==============================] - 0s 2ms/step\n",
            "> 10: single=0.989, ensemble=0.959\n",
            "Accuracy 0.953 (0.023)\n"
          ]
        },
        {
          "output_type": "display_data",
          "data": {
            "text/plain": [
              "<Figure size 640x480 with 1 Axes>"
            ],
            "image/png": "[encoded data removed]"
          },
          "metadata": {}
        }
      ]
    },
    {
      "cell_type": "markdown",
      "source": [
        "# **Extensions**\n",
        "\n",
        "Compare ensemble performance to single model. Try different ensemble sizes for cross-validation and compare results. Increase bagging ensemble size to find diminishing returns."
      ],
      "metadata": {
        "id": "X0T_SzOh_fUS"
      }
    },
    {
      "cell_type": "markdown",
      "source": [
        "# **Summary**\n",
        "\n",
        "We created resampling-based ensembles for neural networks by estimating performance with random-splits and cross-validation. Bootstrap for estimation and bagging."
      ],
      "metadata": {
        "id": "GOMqMoah_jOD"
      }
    },
    {
      "cell_type": "markdown",
      "source": [
        "# **Stacking Ensemble for Deep Learning Neural Networks**"
      ],
      "metadata": {
        "id": "uwnWHzb6_n7m"
      }
    },
    {
      "cell_type": "markdown",
      "source": [
        "Model averaging combines sub-models and can be enhanced with weighted sub-models. Stacking trains a new model for improved predictions. Learn stacked generalization ensemble for deep learning using submodels and meta-learner.\n",
        "\n",
        "# **Tutorial Overview**\n",
        "\n",
        "- Stacked Generalization Ensemble\n",
        "\n",
        "- Multi-Class Classification Problem\n",
        "\n",
        "- Multilayer Perceptron Model\n",
        "\n",
        "- Train and Save Sub-Models\n",
        "\n",
        "- Separate Stacking Model\n",
        "\n",
        "- Integrated Stacking Model"
      ],
      "metadata": {
        "id": "O_QjoZgS_9Je"
      }
    },
    {
      "cell_type": "markdown",
      "source": [
        "# **Stacked Generalization Ensemble**\n",
        "To optimize contributions, trust and performance on holdout set are key. Weighted ensemble outperforms model average. Use sub-model stacking in 2-level linear regression to enhance output predictions during training. Lvl 1: Meta-learner predicts. Stacked generalization reduces biases & stacked ensemble improves performance. Improve generalizer, use diverse dataset to train and split into train/validation. Train level 0 models and use for k-fold cross-validation when training level 1 model with predictions. Train meta-learner with diverse algorithms using untrained model predictions. Exclude same-type models in stacking. Blend predictions using regression, ensemble methods, and class probabilities. Also, create a deep learning model for improved accuracy."
      ],
      "metadata": {
        "id": "DDvxqj7kAH6K"
      }
    },
    {
      "cell_type": "markdown",
      "source": [
        "# **Multi-Class Classification Problem**\n",
        "\n",
        "We'll use make_blobs() function from scikit-learn to demonstrate stacking ensembles for a small multi-class classification problem. Two input variables, std dev of 2.0, consistent data points with same random state. Modellable results. Plot points, color by class."
      ],
      "metadata": {
        "id": "_d64OGIDAMGe"
      }
    },
    {
      "cell_type": "code",
      "source": [
        "# scatter plot of blobs dataset\n",
        "# generate 2d classification dataset\n",
        "X, y = make_blobs(n_samples=1000, centers=3, n_features=2, cluster_std=2, random_state=2)\n",
        "# scatter plot, dots colored by class value\n",
        "df = DataFrame(dict(x=X[:,0], y=X[:,1], label=y))\n",
        "colors = {0:'red', 1:'blue', 2:'green'}\n",
        "fig, ax = pyplot.subplots()\n",
        "grouped = df.groupby('label')\n",
        "for key, group in grouped:\n",
        "    group.plot(ax=ax, kind='scatter', x='x', y='y', label=key, color=colors[key])\n",
        "pyplot.show()"
      ],
      "metadata": {
        "colab": {
          "base_uri": "https://localhost:8080/",
          "height": 449
        },
        "id": "o3w-GcI0AE1b",
        "outputId": "2821eed6-a504-4c5c-985a-a0aff8422006"
      },
      "execution_count": 70,
      "outputs": [
        {
          "output_type": "display_data",
          "data": {
            "text/plain": [
              "<Figure size 640x480 with 1 Axes>"
            ],
            "image/png": "[encoded data removed]"
          },
          "metadata": {}
        }
      ]
    },
    {
      "cell_type": "markdown",
      "source": [
        "This scatter plot has non-linearly separable classes with ambiguous points due to a standard deviation of 2.0, which is ideal for neural networks to find diverse solutions resulting in high variance."
      ],
      "metadata": {
        "id": "0iokwv1sASPF"
      }
    },
    {
      "cell_type": "markdown",
      "source": [
        "# **Multilayer Perceptron Model**\n",
        "\n",
        "Using limited data, our stacking ensemble model will train on 100 points and test on 1,000. We will generate 1,100 points for the blobs problem and predict probabilities for three classes with softmax activation and to_categorical encoding. Create a model with 2 inputs, 1 hidden layer (25 nodes), and 1 output layer (3 nodes) using rectified linear and softmax activation, and optimize with categorical cross-entropy loss and Adam variant of SGD for training and testing. Train 500 epochs, evaluate on train and test sets. "
      ],
      "metadata": {
        "id": "w13LyCd5AWPf"
      }
    },
    {
      "cell_type": "code",
      "source": [
        "# develop an mlp for blobs dataset\n",
        "# generate 2d classification dataset\n",
        "X, y = make_blobs(n_samples=1100, centers=3, n_features=2, cluster_std=2, random_state=2)\n",
        "# one hot encode output variable\n",
        "y = to_categorical(y)\n",
        "# split into train and test\n",
        "n_train = 100\n",
        "trainX, testX = X[:n_train, :], X[n_train:, :]\n",
        "trainy, testy = y[:n_train], y[n_train:]\n",
        "print(trainX.shape, testX.shape)\n",
        "# define model\n",
        "model = Sequential()\n",
        "model.add(Dense(25, input_dim=2, activation='relu'))\n",
        "model.add(Dense(3, activation='softmax'))\n",
        "model.compile(loss='categorical_crossentropy', optimizer='adam', metrics=['accuracy'])\n",
        "# fit model\n",
        "history = model.fit(trainX, trainy, validation_data=(testX, testy), epochs=500, verbose=0)\n",
        "# evaluate the model\n",
        "_, train_acc = model.evaluate(trainX, trainy, verbose=0)\n",
        "_, test_acc = model.evaluate(testX, testy, verbose=0)\n",
        "print('Train: %.3f, Test: %.3f' % (train_acc, test_acc))\n",
        "# learning curves of model accuracy\n",
        "pyplot.plot(history.history['accuracy'], label='train')\n",
        "pyplot.plot(history.history['val_accuracy'], label='test')\n",
        "pyplot.legend()\n",
        "pyplot.show()"
      ],
      "metadata": {
        "colab": {
          "base_uri": "https://localhost:8080/",
          "height": 466
        },
        "id": "ZLXXpyXvAh1v",
        "outputId": "09ec6faa-b46c-48be-a74b-9e4197dec1bb"
      },
      "execution_count": 71,
      "outputs": [
        {
          "output_type": "stream",
          "name": "stdout",
          "text": [
            "(100, 2) (1000, 2)\n",
            "Train: 0.840, Test: 0.806\n"
          ]
        },
        {
          "output_type": "display_data",
          "data": {
            "text/plain": [
              "<Figure size 640x480 with 1 Axes>"
            ],
            "image/png": "[encoded data removed]"
          },
          "metadata": {}
        }
      ]
    },
    {
      "cell_type": "markdown",
      "source": [
        "The model's training accuracy was 85% and testing accuracy was 80%, as anticipated. A line plot shows model accuracy on train and test sets during training, with training accuracy being more optimistic. Use model in stacking ensemble."
      ],
      "metadata": {
        "id": "JhKA0KBxAj22"
      }
    },
    {
      "cell_type": "code",
      "source": [
        "df_test_resampled = df_test_classification.sample(10000,replace=True).reset_index(drop=True)\n",
        "X,y = df_test_resampled.loc[:,df_test_resampled.columns!= 'chocolate'], df_test_resampled['chocolate']\n",
        "X = X.values\n",
        "y = to_categorical(y)\n",
        "print('Train', X.shape, y.shape)\n",
        "\n",
        "length = int(len(X)*0.8)\n",
        "X, newX = X[:length, :], X[length:, :]\n",
        "y, newy = y[:length], y[length:]\n",
        "\n",
        "print(X.shape, newX.shape)\n",
        "# define model\n",
        "model = Sequential()\n",
        "model.add(Dense(25, input_dim=X.shape[1], activation='relu'))\n",
        "model.add(Dense(2, activation='softmax'))\n",
        "model.compile(loss='categorical_crossentropy', optimizer='adam', metrics=['accuracy'])\n",
        "# fit model\n",
        "history = model.fit(X, y, validation_data=(newX, newy), epochs=500, verbose=0)\n",
        "# evaluate the model\n",
        "_, train_acc = model.evaluate(X, y, verbose=0)\n",
        "_, test_acc = model.evaluate(newX, newy, verbose=0)\n",
        "print('Train: %.3f, Test: %.3f' % (train_acc, test_acc))\n",
        "# learning curves of model accuracy\n",
        "pyplot.plot(history.history['accuracy'], label='train')\n",
        "pyplot.plot(history.history['val_accuracy'], label='test')\n",
        "pyplot.legend()\n",
        "pyplot.show()"
      ],
      "metadata": {
        "colab": {
          "base_uri": "https://localhost:8080/",
          "height": 485
        },
        "id": "VEwDQKaIamBW",
        "outputId": "ab1dbb8a-b675-4412-f6df-e80c050fc241"
      },
      "execution_count": 78,
      "outputs": [
        {
          "output_type": "stream",
          "name": "stdout",
          "text": [
            "Train (10000, 11) (10000, 2)\n",
            "(8000, 11) (2000, 11)\n",
            "Train: 1.000, Test: 1.000\n"
          ]
        },
        {
          "output_type": "display_data",
          "data": {
            "text/plain": [
              "<Figure size 640x480 with 1 Axes>"
            ],
            "image/png": "[encoded data removed]"
          },
          "metadata": {}
        }
      ]
    },
    {
      "cell_type": "markdown",
      "source": [
        "# **Train and Save Sub-Models**\n",
        "\n",
        "Use sub-models and validation set to train meta-learner in stacking ensemble with k-fold cross-validation and different MLP models. Save sub-models for stacking ensembles. Define and fit an MLP model using training data. Make a models sub-directory, deleting if needed for re-runs. Create and save multiple MLP instances to \"models/\" with unique filenames. Test performance with 5 sub-models. Training and saving example below."
      ],
      "metadata": {
        "id": "qbGLv1eoAoBg"
      }
    },
    {
      "cell_type": "code",
      "source": [
        "# example of saving sub-models for later use in a stacking ensemble\n",
        "# fit model on dataset\n",
        "def fit_model(X_train, y_train):\n",
        "\t# define model\n",
        "\tmodel = Sequential()\n",
        "\tmodel.add(Dense(25, input_dim=X_train.shape[1], activation='relu'))\n",
        "\tmodel.add(Dense(y_train.shape[1], activation='softmax'))\n",
        "\tmodel.compile(loss='categorical_crossentropy', optimizer='adam', metrics=['accuracy'])\n",
        "\t# fit model\n",
        "\tmodel.fit(X_train, y_train, epochs=500, verbose=0)\n",
        "\treturn model\n",
        "\n",
        "# generate 2d classification dataset\n",
        "X, y = make_blobs(n_samples=1100, centers=3, n_features=2, cluster_std=2, random_state=2)\n",
        "# one hot encode output variable\n",
        "y = to_categorical(y)\n",
        "# split into train and test\n",
        "n_train = 100\n",
        "trainX, testX = X[:n_train, :], X[n_train:, :]\n",
        "trainy, testy = y[:n_train], y[n_train:]\n",
        "print(trainX.shape, testX.shape)\n",
        "# create directory for models\n",
        "makedirs('models')\n",
        "# fit and save models\n",
        "n_members = 5\n",
        "for i in range(n_members):\n",
        "\t# fit model\n",
        "\tmodel = fit_model(trainX, trainy)\n",
        "\t# save model\n",
        "\tfilename = 'models/model_' + str(i + 1) + '.h5'\n",
        "\tmodel.save(filename)\n",
        "\tprint('>Saved %s' % filename)"
      ],
      "metadata": {
        "colab": {
          "base_uri": "https://localhost:8080/"
        },
        "id": "xq2nyHxGAvgI",
        "outputId": "3059f66b-f19a-42d7-ae95-12fd5e195607"
      },
      "execution_count": 82,
      "outputs": [
        {
          "output_type": "stream",
          "name": "stdout",
          "text": [
            "(100, 2) (1000, 2)\n",
            ">Saved models/model_1.h5\n",
            ">Saved models/model_2.h5\n",
            ">Saved models/model_3.h5\n",
            ">Saved models/model_4.h5\n",
            ">Saved models/model_5.h5\n"
          ]
        }
      ]
    },
    {
      "cell_type": "markdown",
      "source": [
        "Training creates \"models/\" subfolder and 5 unique models. Train meta-learner with predictions."
      ],
      "metadata": {
        "id": "Q53rYprSAyf_"
      }
    },
    {
      "cell_type": "code",
      "source": [
        "df_test_resampled = df_test_classification.sample(10000,replace=True).reset_index(drop=True)\n",
        "X,y = df_test_resampled.loc[:,df_test_resampled.columns!= 'chocolate'], df_test_resampled['chocolate']\n",
        "X = X.values\n",
        "y = to_categorical(y)\n",
        "print('Train', X.shape, y.shape)\n",
        "\n",
        "# split into train and test\n",
        "n_train = 1000\n",
        "# create directory for models\n",
        "makedirs('models_realdata')\n",
        "# fit and save models\n",
        "n_members = 5\n",
        "for i in range(n_members):\n",
        "\t# fit model\n",
        "\tmodel = fit_model(X, y)\n",
        "\t# save model\n",
        "\tfilename = 'models/models_realdata' + str(i + 1) + '.h5'\n",
        "\tmodel.save(filename)\n",
        "\tprint('>Saved %s' % filename)"
      ],
      "metadata": {
        "colab": {
          "base_uri": "https://localhost:8080/"
        },
        "id": "3wVqihvUdM7Q",
        "outputId": "7940618c-8cc2-4ced-ccf8-3f068ce48870"
      },
      "execution_count": 83,
      "outputs": [
        {
          "output_type": "stream",
          "name": "stdout",
          "text": [
            "Train (10000, 11) (10000, 2)\n",
            "(10000, 11) (2000, 11)\n",
            ">Saved models/models_realdata1.h5\n",
            ">Saved models/models_realdata2.h5\n",
            ">Saved models/models_realdata3.h5\n",
            ">Saved models/models_realdata4.h5\n",
            ">Saved models/models_realdata5.h5\n"
          ]
        }
      ]
    },
    {
      "cell_type": "markdown",
      "source": [
        "# **Separate Stacking Model**\n",
        "\n",
        "Train. Load models. Load and evaluate 5 saved models with \"load_model()\" and compare their performance to the stacking model. Evaluate each model on training data, train meta-learner with a dataset, and test submodels make 3 predictions/sample for 3 categories to establish baseline performance. Stack 1000 test samples with dstack() and fit into a new model using 15 features per example from 5 models with 3 predictions each. Reshape predictions to [1000, 15] using NumPy's Reshape() for meta-learner training via stacked_dataset(). Train a meta-learner with scikit-learn's logistic regression model using input and test set output. Build the logistic regression model using fit_stacked_model() on loaded models and training data. Use stacked models and meta-learner with stacked_prediction() to predict new data, including an example of linear meta-learner fitting."
      ],
      "metadata": {
        "id": "o4djNbZfBAgg"
      }
    },
    {
      "cell_type": "code",
      "source": [
        "# stacked generalization with linear meta model on blobs dataset\n",
        "# load models from file\n",
        "def load_all_models(n_models):\n",
        "\tall_models = list()\n",
        "\tfor i in range(n_models):\n",
        "\t\t# define filename for this ensemble\n",
        "\t\tfilename = 'models/model_' + str(i + 1) + '.h5'\n",
        "\t\t# load model from file\n",
        "\t\tmodel = load_model(filename)\n",
        "\t\t# add to list of members\n",
        "\t\tall_models.append(model)\n",
        "\t\tprint('>loaded %s' % filename)\n",
        "\treturn all_models\n",
        "\n",
        "# create stacked model input dataset as outputs from the ensemble\n",
        "def stacked_dataset(members, inputX):\n",
        "\tstackX = None\n",
        "\tfor model in members:\n",
        "\t\t# make prediction\n",
        "\t\tyhat = model.predict(inputX, verbose=0)\n",
        "\t\t# stack predictions into [rows, members, probabilities]\n",
        "\t\tif stackX is None:\n",
        "\t\t\tstackX = yhat\n",
        "\t\telse:\n",
        "\t\t\tstackX = dstack((stackX, yhat))\n",
        "\t# flatten predictions to [rows, members x probabilities]\n",
        "\tstackX = stackX.reshape((stackX.shape[0], stackX.shape[1]*stackX.shape[2]))\n",
        "\treturn stackX\n",
        "\n",
        "# fit a model based on the outputs from the ensemble members\n",
        "def fit_stacked_model(members, inputX, inputy):\n",
        "\t# create dataset using ensemble\n",
        "\tstackedX = stacked_dataset(members, inputX)\n",
        "\t# fit standalone model\n",
        "\tmodel = LogisticRegression()\n",
        "\tmodel.fit(stackedX, inputy)\n",
        "\treturn model\n",
        "\n",
        "# make a prediction with the stacked model\n",
        "def stacked_prediction(members, model, inputX):\n",
        "\t# create dataset using ensemble\n",
        "\tstackedX = stacked_dataset(members, inputX)\n",
        "\t# make a prediction\n",
        "\tyhat = model.predict(stackedX)\n",
        "\treturn yhat\n",
        "\n",
        "# generate 2d classification dataset\n",
        "X, y = make_blobs(n_samples=1100, centers=3, n_features=2, cluster_std=2, random_state=2)\n",
        "# split into train and test\n",
        "n_train = 100\n",
        "trainX, testX = X[:n_train, :], X[n_train:, :]\n",
        "trainy, testy = y[:n_train], y[n_train:]\n",
        "print(trainX.shape, testX.shape)\n",
        "# load all models\n",
        "n_members = 5\n",
        "members = load_all_models(n_members)\n",
        "print('Loaded %d models' % len(members))\n",
        "# evaluate standalone models on test dataset\n",
        "for model in members:\n",
        "\ttesty_enc = to_categorical(testy)\n",
        "\t_, acc = model.evaluate(testX, testy_enc, verbose=0)\n",
        "\tprint('Model Accuracy: %.3f' % acc)\n",
        "# fit stacked model using the ensemble\n",
        "model = fit_stacked_model(members, testX, testy)\n",
        "# evaluate model on test set\n",
        "yhat = stacked_prediction(members, model, testX)\n",
        "acc = accuracy_score(testy, yhat)\n",
        "print('Stacked Test Accuracy: %.3f' % acc)"
      ],
      "metadata": {
        "colab": {
          "base_uri": "https://localhost:8080/"
        },
        "id": "8mPEme1MBQjv",
        "outputId": "b24f8dae-92e9-4b59-ed1e-a4aa320b8382"
      },
      "execution_count": 84,
      "outputs": [
        {
          "output_type": "stream",
          "name": "stdout",
          "text": [
            "(100, 2) (1000, 2)\n",
            ">loaded models/model_1.h5\n",
            ">loaded models/model_2.h5\n",
            ">loaded models/model_3.h5\n",
            ">loaded models/model_4.h5\n",
            ">loaded models/model_5.h5\n",
            "Loaded 5 models\n",
            "Model Accuracy: 0.815\n",
            "Model Accuracy: 0.805\n",
            "Model Accuracy: 0.814\n",
            "Model Accuracy: 0.818\n",
            "Model Accuracy: 0.795\n",
            "Stacked Test Accuracy: 0.829\n"
          ]
        }
      ]
    },
    {
      "cell_type": "markdown",
      "source": [
        "After loading and evaluating sub-models, the final model achieves 81.3% accuracy. A logistic regression meta-learner is then trained and evaluated, surpassing sub-models with 82.4% accuracy."
      ],
      "metadata": {
        "id": "IsbshMwJBSFW"
      }
    },
    {
      "cell_type": "markdown",
      "source": [
        "# **Integrated Stacking Model**\n",
        "\n",
        "Streamline output with neural submodels and adjust weights using Keras. Develop stacked ensemble with fixed input heads, rename layers, and merge sub-model inputs towards 15-vector output. Train stacked model graph, update layer weights with test data. Predict using model & k submodels after 300 epochs. Use predict_stacked_model() for more accurate predictions than submodels, similar to linear meta-learner. N/A cannot be shortened further."
      ],
      "metadata": {
        "id": "difjovVsBWPR"
      }
    },
    {
      "cell_type": "code",
      "source": [
        "# stacked generalization with neural net meta model on blobs dataset\n",
        "# load models from file\n",
        "def load_all_models(n_models):\n",
        "\tall_models = list()\n",
        "\tfor i in range(n_models):\n",
        "\t\t# define filename for this ensemble\n",
        "\t\tfilename = 'models/model_' + str(i + 1) + '.h5'\n",
        "\t\t# load model from file\n",
        "\t\tmodel = load_model(filename)\n",
        "\t\t# add to list of members\n",
        "\t\tall_models.append(model)\n",
        "\t\tprint('>loaded %s' % filename)\n",
        "\treturn all_models\n",
        "\n",
        "# define stacked model from multiple member input models\n",
        "def define_stacked_model(members):\n",
        "\t# update all layers in all models to not be trainable\n",
        "\tfor i in range(len(members)):\n",
        "\t\tmodel = members[i]\n",
        "\t\tfor layer in model.layers:\n",
        "\t\t\t# make not trainable\n",
        "\t\t\tlayer.trainable = False\n",
        "\t\t\t# rename to avoid 'unique layer name' issue\n",
        "\t\t\tlayer._name = 'ensemble_' + str(i+1) + '_' + layer.name\n",
        "\t# define multi-headed input\n",
        "\tensemble_visible = [model.input for model in members]\n",
        "\t# concatenate merge output from each model\n",
        "\tensemble_outputs = [model.output for model in members]\n",
        "\tmerge = concatenate(ensemble_outputs)\n",
        "\thidden = Dense(10, activation='relu')(merge)\n",
        "\toutput = Dense(3, activation='softmax')(hidden)\n",
        "\tmodel = Model(inputs=ensemble_visible, outputs=output)\n",
        "\t# plot graph of ensemble\n",
        "\tplot_model(model, show_shapes=True, to_file='model_graph.png')\n",
        "\t# compile\n",
        "\tmodel.compile(loss='categorical_crossentropy', optimizer='adam', metrics=['accuracy'])\n",
        "\treturn model\n",
        "\n",
        "# fit a stacked model\n",
        "def fit_stacked_model(model, inputX, inputy):\n",
        "\t# prepare input data\n",
        "\tX = [inputX for _ in range(len(model.input))]\n",
        "\t# encode output data\n",
        "\tinputy_enc = to_categorical(inputy)\n",
        "\t# fit model\n",
        "\tmodel.fit(X, inputy_enc, epochs=300, verbose=0)\n",
        "\n",
        "# make a prediction with a stacked model\n",
        "def predict_stacked_model(model, inputX):\n",
        "\t# prepare input data\n",
        "\tX = [inputX for _ in range(len(model.input))]\n",
        "\t# make prediction\n",
        "\treturn model.predict(X, verbose=0)\n",
        "\n",
        "# generate 2d classification dataset\n",
        "X, y = make_blobs(n_samples=1100, centers=3, n_features=2, cluster_std=2, random_state=2)\n",
        "# split into train and test\n",
        "n_train = 100\n",
        "trainX, testX = X[:n_train, :], X[n_train:, :]\n",
        "trainy, testy = y[:n_train], y[n_train:]\n",
        "print(trainX.shape, testX.shape)\n",
        "# load all models\n",
        "n_members = 5\n",
        "members = load_all_models(n_members)\n",
        "print('Loaded %d models' % len(members))\n",
        "# define ensemble model\n",
        "stacked_model = define_stacked_model(members)\n",
        "# fit stacked model on test dataset\n",
        "fit_stacked_model(stacked_model, testX, testy)\n",
        "# make predictions and evaluate\n",
        "yhat = predict_stacked_model(stacked_model, testX)\n",
        "yhat = argmax(yhat, axis=1)\n",
        "acc = accuracy_score(testy, yhat)\n",
        "print('Stacked Test Accuracy: %.3f' % acc)"
      ],
      "metadata": {
        "colab": {
          "base_uri": "https://localhost:8080/"
        },
        "id": "8BkMGGB_BlbD",
        "outputId": "f3294928-ae9b-4d7e-de07-04c8746a9d16"
      },
      "execution_count": 95,
      "outputs": [
        {
          "output_type": "stream",
          "name": "stdout",
          "text": [
            "(100, 2) (1000, 2)\n",
            ">loaded models/model_1.h5\n",
            ">loaded models/model_2.h5\n",
            ">loaded models/model_3.h5\n",
            ">loaded models/model_4.h5\n",
            ">loaded models/model_5.h5\n",
            "Loaded 5 models\n",
            "Stacked Test Accuracy: 0.836\n"
          ]
        }
      ]
    },
    {
      "cell_type": "markdown",
      "source": [
        "A bigger neural network ensemble is trained on the test dataset and achieves an accuracy of 83.3%, out-performing the previous linear model."
      ],
      "metadata": {
        "id": "2i5RqAObBnf0"
      }
    },
    {
      "cell_type": "markdown",
      "source": [
        "# **Extensions**\n",
        "\n",
        "Test new meta-learner classifier and compare with one level-0 model. Analyze accuracy correlation of sub-models in stacked ensemble with k-fold cross-validation on\n",
        "Ensemble's meta-learner training set. Raw Input vs Sub-Models in Meta-Learner."
      ],
      "metadata": {
        "id": "NibuRU7RBqW9"
      }
    },
    {
      "cell_type": "markdown",
      "source": [
        "# **Summary**\n",
        "\n",
        "We found a way to create stacked generalization ensembles for neural networks, which involves combining predictions from multiple models. Develop a stacking model using neural networks and scikit-learn classifiers as the meta-learner."
      ],
      "metadata": {
        "id": "27B1YgRZBs4I"
      }
    }
  ]
}